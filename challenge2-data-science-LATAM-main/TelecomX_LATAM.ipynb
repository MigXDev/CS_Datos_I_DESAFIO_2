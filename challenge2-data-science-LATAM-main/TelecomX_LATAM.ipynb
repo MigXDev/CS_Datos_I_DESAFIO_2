{
  "cells": [
    {
      "cell_type": "markdown",
      "metadata": {},
      "source": [
        "# Challenge Alura - TelecomX"
      ]
    },
    {
      "cell_type": "markdown",
      "metadata": {
        "id": "4foVEKhrlqcH"
      },
      "source": [
        "## 📌 Extracción\n",
        "\n",
        "Para iniciar tu análisis, necesitarás importar los datos de la API de Telecom X. Estos datos están disponibles en formato JSON y contienen información esencial sobre los clientes, incluyendo datos demográficos, tipo de servicio contratado y estado de evasión."
      ]
    },
    {
      "cell_type": "markdown",
      "metadata": {},
      "source": [
        "#### ✅ Cargar los datos directamente desde la API utilizando Python."
      ]
    },
    {
      "cell_type": "code",
      "execution_count": 1,
      "metadata": {
        "id": "1--uPM88l7JH"
      },
      "outputs": [],
      "source": [
        "import pandas as pd\n",
        "\n",
        "# Cargar los datos directamente desde la API utilizando Python\n",
        "url = 'https://raw.githubusercontent.com/alura-cursos/challenge2-data-science-LATAM/main/TelecomX_Data.json'\n",
        "\n",
        "# url = 'TelecomX_Data.json' "
      ]
    },
    {
      "cell_type": "markdown",
      "metadata": {},
      "source": [
        "#### ✅ Convertir los datos a un DataFrame de Pandas para facilitar su manipulación."
      ]
    },
    {
      "cell_type": "code",
      "execution_count": 2,
      "metadata": {},
      "outputs": [
        {
          "name": "stdout",
          "output_type": "stream",
          "text": [
            "DataFrame cargado exitosamente. Filas: 7267, Columnas: 6\n"
          ]
        }
      ],
      "source": [
        "try:\n",
        "    # Convertir los datos a un DataFrame de Pandas\n",
        "    Datos = pd.read_json(url)\n",
        "    print(f\"DataFrame cargado exitosamente. Filas: {len(Datos)}, Columnas: {len(Datos.columns)}\")\n",
        "except Exception as e:\n",
        "    print(f\"Error al cargar el JSON: {e}\")\n",
        "    print(\"Verifica la URL y tu conexión a internet.\")"
      ]
    },
    {
      "cell_type": "code",
      "execution_count": 3,
      "metadata": {},
      "outputs": [
        {
          "data": {
            "text/html": [
              "<div>\n",
              "<style scoped>\n",
              "    .dataframe tbody tr th:only-of-type {\n",
              "        vertical-align: middle;\n",
              "    }\n",
              "\n",
              "    .dataframe tbody tr th {\n",
              "        vertical-align: top;\n",
              "    }\n",
              "\n",
              "    .dataframe thead th {\n",
              "        text-align: right;\n",
              "    }\n",
              "</style>\n",
              "<table border=\"1\" class=\"dataframe\">\n",
              "  <thead>\n",
              "    <tr style=\"text-align: right;\">\n",
              "      <th></th>\n",
              "      <th>customerID</th>\n",
              "      <th>Churn</th>\n",
              "      <th>customer</th>\n",
              "      <th>phone</th>\n",
              "      <th>internet</th>\n",
              "      <th>account</th>\n",
              "    </tr>\n",
              "  </thead>\n",
              "  <tbody>\n",
              "    <tr>\n",
              "      <th>0</th>\n",
              "      <td>0002-ORFBO</td>\n",
              "      <td>No</td>\n",
              "      <td>{'gender': 'Female', 'SeniorCitizen': 0, 'Part...</td>\n",
              "      <td>{'PhoneService': 'Yes', 'MultipleLines': 'No'}</td>\n",
              "      <td>{'InternetService': 'DSL', 'OnlineSecurity': '...</td>\n",
              "      <td>{'Contract': 'One year', 'PaperlessBilling': '...</td>\n",
              "    </tr>\n",
              "    <tr>\n",
              "      <th>1</th>\n",
              "      <td>0003-MKNFE</td>\n",
              "      <td>No</td>\n",
              "      <td>{'gender': 'Male', 'SeniorCitizen': 0, 'Partne...</td>\n",
              "      <td>{'PhoneService': 'Yes', 'MultipleLines': 'Yes'}</td>\n",
              "      <td>{'InternetService': 'DSL', 'OnlineSecurity': '...</td>\n",
              "      <td>{'Contract': 'Month-to-month', 'PaperlessBilli...</td>\n",
              "    </tr>\n",
              "    <tr>\n",
              "      <th>2</th>\n",
              "      <td>0004-TLHLJ</td>\n",
              "      <td>Yes</td>\n",
              "      <td>{'gender': 'Male', 'SeniorCitizen': 0, 'Partne...</td>\n",
              "      <td>{'PhoneService': 'Yes', 'MultipleLines': 'No'}</td>\n",
              "      <td>{'InternetService': 'Fiber optic', 'OnlineSecu...</td>\n",
              "      <td>{'Contract': 'Month-to-month', 'PaperlessBilli...</td>\n",
              "    </tr>\n",
              "    <tr>\n",
              "      <th>3</th>\n",
              "      <td>0011-IGKFF</td>\n",
              "      <td>Yes</td>\n",
              "      <td>{'gender': 'Male', 'SeniorCitizen': 1, 'Partne...</td>\n",
              "      <td>{'PhoneService': 'Yes', 'MultipleLines': 'No'}</td>\n",
              "      <td>{'InternetService': 'Fiber optic', 'OnlineSecu...</td>\n",
              "      <td>{'Contract': 'Month-to-month', 'PaperlessBilli...</td>\n",
              "    </tr>\n",
              "    <tr>\n",
              "      <th>4</th>\n",
              "      <td>0013-EXCHZ</td>\n",
              "      <td>Yes</td>\n",
              "      <td>{'gender': 'Female', 'SeniorCitizen': 1, 'Part...</td>\n",
              "      <td>{'PhoneService': 'Yes', 'MultipleLines': 'No'}</td>\n",
              "      <td>{'InternetService': 'Fiber optic', 'OnlineSecu...</td>\n",
              "      <td>{'Contract': 'Month-to-month', 'PaperlessBilli...</td>\n",
              "    </tr>\n",
              "  </tbody>\n",
              "</table>\n",
              "</div>"
            ],
            "text/plain": [
              "   customerID Churn                                           customer  \\\n",
              "0  0002-ORFBO    No  {'gender': 'Female', 'SeniorCitizen': 0, 'Part...   \n",
              "1  0003-MKNFE    No  {'gender': 'Male', 'SeniorCitizen': 0, 'Partne...   \n",
              "2  0004-TLHLJ   Yes  {'gender': 'Male', 'SeniorCitizen': 0, 'Partne...   \n",
              "3  0011-IGKFF   Yes  {'gender': 'Male', 'SeniorCitizen': 1, 'Partne...   \n",
              "4  0013-EXCHZ   Yes  {'gender': 'Female', 'SeniorCitizen': 1, 'Part...   \n",
              "\n",
              "                                             phone  \\\n",
              "0   {'PhoneService': 'Yes', 'MultipleLines': 'No'}   \n",
              "1  {'PhoneService': 'Yes', 'MultipleLines': 'Yes'}   \n",
              "2   {'PhoneService': 'Yes', 'MultipleLines': 'No'}   \n",
              "3   {'PhoneService': 'Yes', 'MultipleLines': 'No'}   \n",
              "4   {'PhoneService': 'Yes', 'MultipleLines': 'No'}   \n",
              "\n",
              "                                            internet  \\\n",
              "0  {'InternetService': 'DSL', 'OnlineSecurity': '...   \n",
              "1  {'InternetService': 'DSL', 'OnlineSecurity': '...   \n",
              "2  {'InternetService': 'Fiber optic', 'OnlineSecu...   \n",
              "3  {'InternetService': 'Fiber optic', 'OnlineSecu...   \n",
              "4  {'InternetService': 'Fiber optic', 'OnlineSecu...   \n",
              "\n",
              "                                             account  \n",
              "0  {'Contract': 'One year', 'PaperlessBilling': '...  \n",
              "1  {'Contract': 'Month-to-month', 'PaperlessBilli...  \n",
              "2  {'Contract': 'Month-to-month', 'PaperlessBilli...  \n",
              "3  {'Contract': 'Month-to-month', 'PaperlessBilli...  \n",
              "4  {'Contract': 'Month-to-month', 'PaperlessBilli...  "
            ]
          },
          "execution_count": 3,
          "metadata": {},
          "output_type": "execute_result"
        }
      ],
      "source": [
        "Datos.head()"
      ]
    },
    {
      "cell_type": "markdown",
      "metadata": {},
      "source": [
        "#### ✅ Normalización de las columnas | Archivo JSON"
      ]
    },
    {
      "cell_type": "code",
      "execution_count": 4,
      "metadata": {},
      "outputs": [],
      "source": [
        "# Datos anidados \n",
        "# Columnas [customer, phone, internet, account]\n",
        "Datos_Norm_customer = pd.json_normalize(Datos['customer'])\n",
        "Datos_Norm_phone = pd.json_normalize(Datos['phone'])\n",
        "Datos_Norm_internet = pd.json_normalize(Datos['internet'])\n",
        "Datos_Norm_account = pd.json_normalize(Datos['account'])"
      ]
    },
    {
      "cell_type": "code",
      "execution_count": 5,
      "metadata": {},
      "outputs": [
        {
          "data": {
            "text/html": [
              "<div>\n",
              "<style scoped>\n",
              "    .dataframe tbody tr th:only-of-type {\n",
              "        vertical-align: middle;\n",
              "    }\n",
              "\n",
              "    .dataframe tbody tr th {\n",
              "        vertical-align: top;\n",
              "    }\n",
              "\n",
              "    .dataframe thead th {\n",
              "        text-align: right;\n",
              "    }\n",
              "</style>\n",
              "<table border=\"1\" class=\"dataframe\">\n",
              "  <thead>\n",
              "    <tr style=\"text-align: right;\">\n",
              "      <th></th>\n",
              "      <th>customerID</th>\n",
              "      <th>Churn</th>\n",
              "      <th>gender</th>\n",
              "      <th>SeniorCitizen</th>\n",
              "      <th>Partner</th>\n",
              "      <th>Dependents</th>\n",
              "      <th>tenure</th>\n",
              "      <th>PhoneService</th>\n",
              "      <th>MultipleLines</th>\n",
              "      <th>InternetService</th>\n",
              "      <th>...</th>\n",
              "      <th>OnlineBackup</th>\n",
              "      <th>DeviceProtection</th>\n",
              "      <th>TechSupport</th>\n",
              "      <th>StreamingTV</th>\n",
              "      <th>StreamingMovies</th>\n",
              "      <th>Contract</th>\n",
              "      <th>PaperlessBilling</th>\n",
              "      <th>PaymentMethod</th>\n",
              "      <th>Charges.Monthly</th>\n",
              "      <th>Charges.Total</th>\n",
              "    </tr>\n",
              "  </thead>\n",
              "  <tbody>\n",
              "    <tr>\n",
              "      <th>0</th>\n",
              "      <td>0002-ORFBO</td>\n",
              "      <td>No</td>\n",
              "      <td>Female</td>\n",
              "      <td>0</td>\n",
              "      <td>Yes</td>\n",
              "      <td>Yes</td>\n",
              "      <td>9</td>\n",
              "      <td>Yes</td>\n",
              "      <td>No</td>\n",
              "      <td>DSL</td>\n",
              "      <td>...</td>\n",
              "      <td>Yes</td>\n",
              "      <td>No</td>\n",
              "      <td>Yes</td>\n",
              "      <td>Yes</td>\n",
              "      <td>No</td>\n",
              "      <td>One year</td>\n",
              "      <td>Yes</td>\n",
              "      <td>Mailed check</td>\n",
              "      <td>65.6</td>\n",
              "      <td>593.3</td>\n",
              "    </tr>\n",
              "    <tr>\n",
              "      <th>1</th>\n",
              "      <td>0003-MKNFE</td>\n",
              "      <td>No</td>\n",
              "      <td>Male</td>\n",
              "      <td>0</td>\n",
              "      <td>No</td>\n",
              "      <td>No</td>\n",
              "      <td>9</td>\n",
              "      <td>Yes</td>\n",
              "      <td>Yes</td>\n",
              "      <td>DSL</td>\n",
              "      <td>...</td>\n",
              "      <td>No</td>\n",
              "      <td>No</td>\n",
              "      <td>No</td>\n",
              "      <td>No</td>\n",
              "      <td>Yes</td>\n",
              "      <td>Month-to-month</td>\n",
              "      <td>No</td>\n",
              "      <td>Mailed check</td>\n",
              "      <td>59.9</td>\n",
              "      <td>542.4</td>\n",
              "    </tr>\n",
              "    <tr>\n",
              "      <th>2</th>\n",
              "      <td>0004-TLHLJ</td>\n",
              "      <td>Yes</td>\n",
              "      <td>Male</td>\n",
              "      <td>0</td>\n",
              "      <td>No</td>\n",
              "      <td>No</td>\n",
              "      <td>4</td>\n",
              "      <td>Yes</td>\n",
              "      <td>No</td>\n",
              "      <td>Fiber optic</td>\n",
              "      <td>...</td>\n",
              "      <td>No</td>\n",
              "      <td>Yes</td>\n",
              "      <td>No</td>\n",
              "      <td>No</td>\n",
              "      <td>No</td>\n",
              "      <td>Month-to-month</td>\n",
              "      <td>Yes</td>\n",
              "      <td>Electronic check</td>\n",
              "      <td>73.9</td>\n",
              "      <td>280.85</td>\n",
              "    </tr>\n",
              "    <tr>\n",
              "      <th>3</th>\n",
              "      <td>0011-IGKFF</td>\n",
              "      <td>Yes</td>\n",
              "      <td>Male</td>\n",
              "      <td>1</td>\n",
              "      <td>Yes</td>\n",
              "      <td>No</td>\n",
              "      <td>13</td>\n",
              "      <td>Yes</td>\n",
              "      <td>No</td>\n",
              "      <td>Fiber optic</td>\n",
              "      <td>...</td>\n",
              "      <td>Yes</td>\n",
              "      <td>Yes</td>\n",
              "      <td>No</td>\n",
              "      <td>Yes</td>\n",
              "      <td>Yes</td>\n",
              "      <td>Month-to-month</td>\n",
              "      <td>Yes</td>\n",
              "      <td>Electronic check</td>\n",
              "      <td>98.0</td>\n",
              "      <td>1237.85</td>\n",
              "    </tr>\n",
              "    <tr>\n",
              "      <th>4</th>\n",
              "      <td>0013-EXCHZ</td>\n",
              "      <td>Yes</td>\n",
              "      <td>Female</td>\n",
              "      <td>1</td>\n",
              "      <td>Yes</td>\n",
              "      <td>No</td>\n",
              "      <td>3</td>\n",
              "      <td>Yes</td>\n",
              "      <td>No</td>\n",
              "      <td>Fiber optic</td>\n",
              "      <td>...</td>\n",
              "      <td>No</td>\n",
              "      <td>No</td>\n",
              "      <td>Yes</td>\n",
              "      <td>Yes</td>\n",
              "      <td>No</td>\n",
              "      <td>Month-to-month</td>\n",
              "      <td>Yes</td>\n",
              "      <td>Mailed check</td>\n",
              "      <td>83.9</td>\n",
              "      <td>267.4</td>\n",
              "    </tr>\n",
              "  </tbody>\n",
              "</table>\n",
              "<p>5 rows × 21 columns</p>\n",
              "</div>"
            ],
            "text/plain": [
              "   customerID Churn  gender  SeniorCitizen Partner Dependents  tenure  \\\n",
              "0  0002-ORFBO    No  Female              0     Yes        Yes       9   \n",
              "1  0003-MKNFE    No    Male              0      No         No       9   \n",
              "2  0004-TLHLJ   Yes    Male              0      No         No       4   \n",
              "3  0011-IGKFF   Yes    Male              1     Yes         No      13   \n",
              "4  0013-EXCHZ   Yes  Female              1     Yes         No       3   \n",
              "\n",
              "  PhoneService MultipleLines InternetService  ... OnlineBackup  \\\n",
              "0          Yes            No             DSL  ...          Yes   \n",
              "1          Yes           Yes             DSL  ...           No   \n",
              "2          Yes            No     Fiber optic  ...           No   \n",
              "3          Yes            No     Fiber optic  ...          Yes   \n",
              "4          Yes            No     Fiber optic  ...           No   \n",
              "\n",
              "  DeviceProtection TechSupport StreamingTV StreamingMovies        Contract  \\\n",
              "0               No         Yes         Yes              No        One year   \n",
              "1               No          No          No             Yes  Month-to-month   \n",
              "2              Yes          No          No              No  Month-to-month   \n",
              "3              Yes          No         Yes             Yes  Month-to-month   \n",
              "4               No         Yes         Yes              No  Month-to-month   \n",
              "\n",
              "  PaperlessBilling     PaymentMethod Charges.Monthly  Charges.Total  \n",
              "0              Yes      Mailed check            65.6          593.3  \n",
              "1               No      Mailed check            59.9          542.4  \n",
              "2              Yes  Electronic check            73.9         280.85  \n",
              "3              Yes  Electronic check            98.0        1237.85  \n",
              "4              Yes      Mailed check            83.9          267.4  \n",
              "\n",
              "[5 rows x 21 columns]"
            ]
          },
          "execution_count": 5,
          "metadata": {},
          "output_type": "execute_result"
        }
      ],
      "source": [
        "#Forma de concatenar Series\n",
        "#Nuevo DF\n",
        "Datos_Norm = pd.concat([Datos['customerID'], Datos['Churn'], Datos_Norm_customer, Datos_Norm_phone,Datos_Norm_internet, Datos_Norm_account], axis=1)\n",
        "Datos_Norm.head(5)"
      ]
    },
    {
      "cell_type": "markdown",
      "metadata": {
        "id": "1lSZP8zmmGZu"
      },
      "source": [
        "## 🔧 Transformación"
      ]
    },
    {
      "cell_type": "markdown",
      "metadata": {},
      "source": [
        "### Conoce el conjunto de datos\n",
        "\n",
        "Ahora que has extraído los datos, es fundamental comprender la estructura del dataset y el significado de sus columnas. Esta etapa te ayudará a identificar qué variables son más relevantes para el análisis de evasión de clientes."
      ]
    },
    {
      "cell_type": "markdown",
      "metadata": {},
      "source": [
        "#### ¿Qué debes hacer?"
      ]
    },
    {
      "cell_type": "markdown",
      "metadata": {},
      "source": [
        "##### ✅ Explorar las columnas del dataset y verificar sus tipos de datos."
      ]
    },
    {
      "cell_type": "code",
      "execution_count": 6,
      "metadata": {},
      "outputs": [
        {
          "name": "stdout",
          "output_type": "stream",
          "text": [
            "<class 'pandas.core.frame.DataFrame'>\n",
            "RangeIndex: 7267 entries, 0 to 7266\n",
            "Data columns (total 6 columns):\n",
            " #   Column      Non-Null Count  Dtype \n",
            "---  ------      --------------  ----- \n",
            " 0   customerID  7267 non-null   object\n",
            " 1   Churn       7267 non-null   object\n",
            " 2   customer    7267 non-null   object\n",
            " 3   phone       7267 non-null   object\n",
            " 4   internet    7267 non-null   object\n",
            " 5   account     7267 non-null   object\n",
            "dtypes: object(6)\n",
            "memory usage: 340.8+ KB\n"
          ]
        }
      ],
      "source": [
        "# Anterior df\n",
        "Datos.info()"
      ]
    },
    {
      "cell_type": "code",
      "execution_count": 7,
      "metadata": {},
      "outputs": [
        {
          "data": {
            "text/plain": [
              "customerID    object\n",
              "Churn         object\n",
              "customer      object\n",
              "phone         object\n",
              "internet      object\n",
              "account       object\n",
              "dtype: object"
            ]
          },
          "execution_count": 7,
          "metadata": {},
          "output_type": "execute_result"
        }
      ],
      "source": [
        "# Anterior df\n",
        "Datos.dtypes"
      ]
    },
    {
      "cell_type": "code",
      "execution_count": 8,
      "metadata": {},
      "outputs": [
        {
          "name": "stdout",
          "output_type": "stream",
          "text": [
            "<class 'pandas.core.frame.DataFrame'>\n",
            "RangeIndex: 7267 entries, 0 to 7266\n",
            "Data columns (total 21 columns):\n",
            " #   Column            Non-Null Count  Dtype  \n",
            "---  ------            --------------  -----  \n",
            " 0   customerID        7267 non-null   object \n",
            " 1   Churn             7267 non-null   object \n",
            " 2   gender            7267 non-null   object \n",
            " 3   SeniorCitizen     7267 non-null   int64  \n",
            " 4   Partner           7267 non-null   object \n",
            " 5   Dependents        7267 non-null   object \n",
            " 6   tenure            7267 non-null   int64  \n",
            " 7   PhoneService      7267 non-null   object \n",
            " 8   MultipleLines     7267 non-null   object \n",
            " 9   InternetService   7267 non-null   object \n",
            " 10  OnlineSecurity    7267 non-null   object \n",
            " 11  OnlineBackup      7267 non-null   object \n",
            " 12  DeviceProtection  7267 non-null   object \n",
            " 13  TechSupport       7267 non-null   object \n",
            " 14  StreamingTV       7267 non-null   object \n",
            " 15  StreamingMovies   7267 non-null   object \n",
            " 16  Contract          7267 non-null   object \n",
            " 17  PaperlessBilling  7267 non-null   object \n",
            " 18  PaymentMethod     7267 non-null   object \n",
            " 19  Charges.Monthly   7267 non-null   float64\n",
            " 20  Charges.Total     7267 non-null   object \n",
            "dtypes: float64(1), int64(2), object(18)\n",
            "memory usage: 1.2+ MB\n"
          ]
        }
      ],
      "source": [
        "#Nuevo df\n",
        "Datos_Norm.info()"
      ]
    },
    {
      "cell_type": "code",
      "execution_count": 9,
      "metadata": {},
      "outputs": [
        {
          "data": {
            "text/plain": [
              "customerID           object\n",
              "Churn                object\n",
              "gender               object\n",
              "SeniorCitizen         int64\n",
              "Partner              object\n",
              "Dependents           object\n",
              "tenure                int64\n",
              "PhoneService         object\n",
              "MultipleLines        object\n",
              "InternetService      object\n",
              "OnlineSecurity       object\n",
              "OnlineBackup         object\n",
              "DeviceProtection     object\n",
              "TechSupport          object\n",
              "StreamingTV          object\n",
              "StreamingMovies      object\n",
              "Contract             object\n",
              "PaperlessBilling     object\n",
              "PaymentMethod        object\n",
              "Charges.Monthly     float64\n",
              "Charges.Total        object\n",
              "dtype: object"
            ]
          },
          "execution_count": 9,
          "metadata": {},
          "output_type": "execute_result"
        }
      ],
      "source": [
        "Datos_Norm.dtypes"
      ]
    },
    {
      "cell_type": "code",
      "execution_count": 10,
      "metadata": {},
      "outputs": [
        {
          "name": "stdout",
          "output_type": "stream",
          "text": [
            "Datos_Norm contiene. Filas: 7267, Columnas: 21\n"
          ]
        }
      ],
      "source": [
        "print(f\"Datos_Norm contiene. Filas: {len(Datos_Norm)}, Columnas: {len(Datos_Norm.columns)}\")\n"
      ]
    },
    {
      "cell_type": "markdown",
      "metadata": {},
      "source": [
        "##### ✅ Consultar el diccionario para comprender mejor el significado de las variables.\n",
        "##### ✅ Identificar las columnas más relevantes para el análisis de evasión."
      ]
    },
    {
      "cell_type": "markdown",
      "metadata": {},
      "source": [
        "### Comprobación de incoherencias en los datos\n",
        "\n",
        "En este paso, verifica si hay problemas en los datos que puedan afectar el análisis. Presta atención a valores ausentes, duplicados, errores de formato e inconsistencias en las categorías. Este proceso es esencial para asegurarte de que los datos estén listos para las siguientes etapas."
      ]
    },
    {
      "cell_type": "markdown",
      "metadata": {},
      "source": [
        "#### ¿Qué debes hacer?\n",
        "---\n",
        "##### Buscar:"
      ]
    },
    {
      "cell_type": "markdown",
      "metadata": {},
      "source": [
        "#### Consistencia y validez de datos categorias"
      ]
    },
    {
      "cell_type": "markdown",
      "metadata": {},
      "source": [
        "##### Duplicados"
      ]
    },
    {
      "cell_type": "code",
      "execution_count": 11,
      "metadata": {},
      "outputs": [
        {
          "name": "stdout",
          "output_type": "stream",
          "text": [
            "Numero de lineas duplicadas: 0\n"
          ]
        }
      ],
      "source": [
        "#Verificando si hay duplicados\n",
        "duplicados = Datos_Norm.duplicated().sum() \n",
        "print(f\"Numero de lineas duplicadas: {duplicados}\")"
      ]
    },
    {
      "cell_type": "markdown",
      "metadata": {},
      "source": [
        "##### Valores Vacios\n"
      ]
    },
    {
      "cell_type": "code",
      "execution_count": 12,
      "metadata": {},
      "outputs": [
        {
          "name": "stdout",
          "output_type": "stream",
          "text": [
            " • customerID: 0 valores vacíos ('')\n",
            " • Churn: 224 valores vacíos ('')\n",
            "Las Filas tienen datos vacios son:  3202    \n",
            "7247    \n",
            "5215    \n",
            "3266    \n",
            "3207    \n",
            "Name: Churn, dtype: object\n",
            "--------------------------------------------------\n",
            " • gender: 0 valores vacíos ('')\n",
            " • SeniorCitizen: 0 valores vacíos ('')\n",
            " • Partner: 0 valores vacíos ('')\n",
            " • Dependents: 0 valores vacíos ('')\n",
            " • tenure: 0 valores vacíos ('')\n",
            " • PhoneService: 0 valores vacíos ('')\n",
            " • MultipleLines: 0 valores vacíos ('')\n",
            " • InternetService: 0 valores vacíos ('')\n",
            " • OnlineSecurity: 0 valores vacíos ('')\n",
            " • OnlineBackup: 0 valores vacíos ('')\n",
            " • DeviceProtection: 0 valores vacíos ('')\n",
            " • TechSupport: 0 valores vacíos ('')\n",
            " • StreamingTV: 0 valores vacíos ('')\n",
            " • StreamingMovies: 0 valores vacíos ('')\n",
            " • Contract: 0 valores vacíos ('')\n",
            " • PaperlessBilling: 0 valores vacíos ('')\n",
            " • PaymentMethod: 0 valores vacíos ('')\n",
            " • Charges.Monthly: 0 valores vacíos ('')\n",
            " • Charges.Total: 0 valores vacíos ('')\n"
          ]
        }
      ],
      "source": [
        "for col in Datos_Norm.columns:\n",
        "        vacios = (Datos_Norm[col] == \"\").sum()  # Cuenta los valores exactamente iguales a \"\"\n",
        "        print(f\" • {col}: {vacios} valores vacíos ('')\")\n",
        "        #Si el numero de valores vacios es mayor a 0, muestra ejemplos de los datos vacios\n",
        "        if vacios > 0:\n",
        "            print(f\"Las Filas tienen datos vacios son: \", Datos_Norm[Datos_Norm[col] == \"\"][col].sample(5))  # Muestra ejemplos si hay vacíos\n",
        "            print('-' * 50)"
      ]
    },
    {
      "cell_type": "code",
      "execution_count": 13,
      "metadata": {},
      "outputs": [
        {
          "data": {
            "text/plain": [
              "customerID                         0047-ZHDTW\n",
              "Churn                                        \n",
              "gender                                 Female\n",
              "SeniorCitizen                               0\n",
              "Partner                                    No\n",
              "Dependents                                 No\n",
              "tenure                                     11\n",
              "PhoneService                              Yes\n",
              "MultipleLines                             Yes\n",
              "InternetService                   Fiber optic\n",
              "OnlineSecurity                            Yes\n",
              "OnlineBackup                               No\n",
              "DeviceProtection                           No\n",
              "TechSupport                                No\n",
              "StreamingTV                                No\n",
              "StreamingMovies                            No\n",
              "Contract                       Month-to-month\n",
              "PaperlessBilling                          Yes\n",
              "PaymentMethod       Bank transfer (automatic)\n",
              "Charges.Monthly                          79.0\n",
              "Charges.Total                           929.3\n",
              "Name: 30, dtype: object"
            ]
          },
          "execution_count": 13,
          "metadata": {},
          "output_type": "execute_result"
        }
      ],
      "source": [
        "# Verificando si hay valores nulos\n",
        "Datos_Norm.iloc[30]"
      ]
    },
    {
      "cell_type": "code",
      "execution_count": 14,
      "metadata": {},
      "outputs": [
        {
          "data": {
            "text/plain": [
              "customerID                6225-VNQSJ\n",
              "Churn                               \n",
              "gender                          Male\n",
              "SeniorCitizen                      0\n",
              "Partner                           No\n",
              "Dependents                        No\n",
              "tenure                             1\n",
              "PhoneService                      No\n",
              "MultipleLines       No phone service\n",
              "InternetService                  DSL\n",
              "OnlineSecurity                    No\n",
              "OnlineBackup                      No\n",
              "DeviceProtection                  No\n",
              "TechSupport                       No\n",
              "StreamingTV                       No\n",
              "StreamingMovies                  Yes\n",
              "Contract              Month-to-month\n",
              "PaperlessBilling                 Yes\n",
              "PaymentMethod       Electronic check\n",
              "Charges.Monthly                35.45\n",
              "Charges.Total                  35.45\n",
              "Name: 4541, dtype: object"
            ]
          },
          "execution_count": 14,
          "metadata": {},
          "output_type": "execute_result"
        }
      ],
      "source": [
        "Datos_Norm.iloc[4541]"
      ]
    },
    {
      "cell_type": "markdown",
      "metadata": {},
      "source": [
        "Otra forma de consultar valores vacios"
      ]
    },
    {
      "cell_type": "code",
      "execution_count": 15,
      "metadata": {},
      "outputs": [
        {
          "data": {
            "text/html": [
              "<div>\n",
              "<style scoped>\n",
              "    .dataframe tbody tr th:only-of-type {\n",
              "        vertical-align: middle;\n",
              "    }\n",
              "\n",
              "    .dataframe tbody tr th {\n",
              "        vertical-align: top;\n",
              "    }\n",
              "\n",
              "    .dataframe thead th {\n",
              "        text-align: right;\n",
              "    }\n",
              "</style>\n",
              "<table border=\"1\" class=\"dataframe\">\n",
              "  <thead>\n",
              "    <tr style=\"text-align: right;\">\n",
              "      <th></th>\n",
              "      <th>customerID</th>\n",
              "      <th>Churn</th>\n",
              "      <th>gender</th>\n",
              "      <th>SeniorCitizen</th>\n",
              "      <th>Partner</th>\n",
              "      <th>Dependents</th>\n",
              "      <th>tenure</th>\n",
              "      <th>PhoneService</th>\n",
              "      <th>MultipleLines</th>\n",
              "      <th>InternetService</th>\n",
              "      <th>...</th>\n",
              "      <th>OnlineBackup</th>\n",
              "      <th>DeviceProtection</th>\n",
              "      <th>TechSupport</th>\n",
              "      <th>StreamingTV</th>\n",
              "      <th>StreamingMovies</th>\n",
              "      <th>Contract</th>\n",
              "      <th>PaperlessBilling</th>\n",
              "      <th>PaymentMethod</th>\n",
              "      <th>Charges.Monthly</th>\n",
              "      <th>Charges.Total</th>\n",
              "    </tr>\n",
              "  </thead>\n",
              "  <tbody>\n",
              "    <tr>\n",
              "      <th>1517</th>\n",
              "      <td>2183-ZULVZ</td>\n",
              "      <td></td>\n",
              "      <td>Female</td>\n",
              "      <td>0</td>\n",
              "      <td>Yes</td>\n",
              "      <td>Yes</td>\n",
              "      <td>70</td>\n",
              "      <td>Yes</td>\n",
              "      <td>Yes</td>\n",
              "      <td>Fiber optic</td>\n",
              "      <td>...</td>\n",
              "      <td>Yes</td>\n",
              "      <td>Yes</td>\n",
              "      <td>Yes</td>\n",
              "      <td>Yes</td>\n",
              "      <td>Yes</td>\n",
              "      <td>Two year</td>\n",
              "      <td>Yes</td>\n",
              "      <td>Credit card (automatic)</td>\n",
              "      <td>115.15</td>\n",
              "      <td>8250</td>\n",
              "    </tr>\n",
              "    <tr>\n",
              "      <th>4393</th>\n",
              "      <td>6016-QSKVI</td>\n",
              "      <td></td>\n",
              "      <td>Male</td>\n",
              "      <td>0</td>\n",
              "      <td>No</td>\n",
              "      <td>No</td>\n",
              "      <td>4</td>\n",
              "      <td>Yes</td>\n",
              "      <td>No</td>\n",
              "      <td>Fiber optic</td>\n",
              "      <td>...</td>\n",
              "      <td>Yes</td>\n",
              "      <td>No</td>\n",
              "      <td>Yes</td>\n",
              "      <td>No</td>\n",
              "      <td>Yes</td>\n",
              "      <td>Month-to-month</td>\n",
              "      <td>Yes</td>\n",
              "      <td>Mailed check</td>\n",
              "      <td>94.90</td>\n",
              "      <td>360.55</td>\n",
              "    </tr>\n",
              "    <tr>\n",
              "      <th>3617</th>\n",
              "      <td>4988-BNLTU</td>\n",
              "      <td></td>\n",
              "      <td>Male</td>\n",
              "      <td>0</td>\n",
              "      <td>No</td>\n",
              "      <td>No</td>\n",
              "      <td>30</td>\n",
              "      <td>Yes</td>\n",
              "      <td>Yes</td>\n",
              "      <td>Fiber optic</td>\n",
              "      <td>...</td>\n",
              "      <td>No</td>\n",
              "      <td>No</td>\n",
              "      <td>No</td>\n",
              "      <td>Yes</td>\n",
              "      <td>Yes</td>\n",
              "      <td>Month-to-month</td>\n",
              "      <td>Yes</td>\n",
              "      <td>Bank transfer (automatic)</td>\n",
              "      <td>100.40</td>\n",
              "      <td>2936.25</td>\n",
              "    </tr>\n",
              "  </tbody>\n",
              "</table>\n",
              "<p>3 rows × 21 columns</p>\n",
              "</div>"
            ],
            "text/plain": [
              "      customerID Churn  gender  SeniorCitizen Partner Dependents  tenure  \\\n",
              "1517  2183-ZULVZ        Female              0     Yes        Yes      70   \n",
              "4393  6016-QSKVI          Male              0      No         No       4   \n",
              "3617  4988-BNLTU          Male              0      No         No      30   \n",
              "\n",
              "     PhoneService MultipleLines InternetService  ... OnlineBackup  \\\n",
              "1517          Yes           Yes     Fiber optic  ...          Yes   \n",
              "4393          Yes            No     Fiber optic  ...          Yes   \n",
              "3617          Yes           Yes     Fiber optic  ...           No   \n",
              "\n",
              "     DeviceProtection TechSupport StreamingTV StreamingMovies        Contract  \\\n",
              "1517              Yes         Yes         Yes             Yes        Two year   \n",
              "4393               No         Yes          No             Yes  Month-to-month   \n",
              "3617               No          No         Yes             Yes  Month-to-month   \n",
              "\n",
              "     PaperlessBilling              PaymentMethod Charges.Monthly  \\\n",
              "1517              Yes    Credit card (automatic)          115.15   \n",
              "4393              Yes               Mailed check           94.90   \n",
              "3617              Yes  Bank transfer (automatic)          100.40   \n",
              "\n",
              "      Charges.Total  \n",
              "1517           8250  \n",
              "4393         360.55  \n",
              "3617        2936.25  \n",
              "\n",
              "[3 rows x 21 columns]"
            ]
          },
          "execution_count": 15,
          "metadata": {},
          "output_type": "execute_result"
        }
      ],
      "source": [
        "Churn_a = Datos_Norm[Datos_Norm['Churn'] == '']\n",
        "Churn_a.sample(3)"
      ]
    },
    {
      "cell_type": "markdown",
      "metadata": {},
      "source": [
        "##### Valores Nulos"
      ]
    },
    {
      "cell_type": "code",
      "execution_count": 16,
      "metadata": {},
      "outputs": [
        {
          "name": "stdout",
          "output_type": "stream",
          "text": [
            "\n",
            "Valores nulos por columna: \n",
            "[]\n"
          ]
        }
      ],
      "source": [
        "# Verificando se hay valores Nulos\n",
        "valores_nulos = Datos_Norm.isnull().values.sum() \n",
        "print(\"\\nValores nulos por columna: \") \n",
        "print(valores_nulos [valores_nulos > 0])"
      ]
    },
    {
      "cell_type": "code",
      "execution_count": 17,
      "metadata": {},
      "outputs": [
        {
          "data": {
            "text/plain": [
              "customerID          0\n",
              "Churn               0\n",
              "gender              0\n",
              "SeniorCitizen       0\n",
              "Partner             0\n",
              "Dependents          0\n",
              "tenure              0\n",
              "PhoneService        0\n",
              "MultipleLines       0\n",
              "InternetService     0\n",
              "OnlineSecurity      0\n",
              "OnlineBackup        0\n",
              "DeviceProtection    0\n",
              "TechSupport         0\n",
              "StreamingTV         0\n",
              "StreamingMovies     0\n",
              "Contract            0\n",
              "PaperlessBilling    0\n",
              "PaymentMethod       0\n",
              "Charges.Monthly     0\n",
              "Charges.Total       0\n",
              "dtype: int64"
            ]
          },
          "execution_count": 17,
          "metadata": {},
          "output_type": "execute_result"
        }
      ],
      "source": [
        "# Formas\n",
        "Datos_Norm.isna().sum()"
      ]
    },
    {
      "cell_type": "markdown",
      "metadata": {},
      "source": [
        "##### Valores Atipicos"
      ]
    },
    {
      "cell_type": "code",
      "execution_count": 18,
      "metadata": {},
      "outputs": [
        {
          "name": "stdout",
          "output_type": "stream",
          "text": [
            "Columna 'customerID': 7267 valores únicos\n",
            "Columna 'Churn': 3 valores únicos\n",
            "['No' 'Yes' '']\n",
            "----------------------------------------\n",
            "Columna 'gender': 2 valores únicos\n",
            "['Female' 'Male']\n",
            "----------------------------------------\n",
            "Columna 'SeniorCitizen': 2 valores únicos\n",
            "[0 1]\n",
            "----------------------------------------\n",
            "Columna 'Partner': 2 valores únicos\n",
            "['Yes' 'No']\n",
            "----------------------------------------\n",
            "Columna 'Dependents': 2 valores únicos\n",
            "['Yes' 'No']\n",
            "----------------------------------------\n",
            "Columna 'tenure': 73 valores únicos\n",
            "Columna 'PhoneService': 2 valores únicos\n",
            "['Yes' 'No']\n",
            "----------------------------------------\n",
            "Columna 'MultipleLines': 3 valores únicos\n",
            "['No' 'Yes' 'No phone service']\n",
            "----------------------------------------\n",
            "Columna 'InternetService': 3 valores únicos\n",
            "['DSL' 'Fiber optic' 'No']\n",
            "----------------------------------------\n",
            "Columna 'OnlineSecurity': 3 valores únicos\n",
            "['No' 'Yes' 'No internet service']\n",
            "----------------------------------------\n",
            "Columna 'OnlineBackup': 3 valores únicos\n",
            "['Yes' 'No' 'No internet service']\n",
            "----------------------------------------\n",
            "Columna 'DeviceProtection': 3 valores únicos\n",
            "['No' 'Yes' 'No internet service']\n",
            "----------------------------------------\n",
            "Columna 'TechSupport': 3 valores únicos\n",
            "['Yes' 'No' 'No internet service']\n",
            "----------------------------------------\n",
            "Columna 'StreamingTV': 3 valores únicos\n",
            "['Yes' 'No' 'No internet service']\n",
            "----------------------------------------\n",
            "Columna 'StreamingMovies': 3 valores únicos\n",
            "['No' 'Yes' 'No internet service']\n",
            "----------------------------------------\n",
            "Columna 'Contract': 3 valores únicos\n",
            "['One year' 'Month-to-month' 'Two year']\n",
            "----------------------------------------\n",
            "Columna 'PaperlessBilling': 2 valores únicos\n",
            "['Yes' 'No']\n",
            "----------------------------------------\n",
            "Columna 'PaymentMethod': 4 valores únicos\n",
            "['Mailed check' 'Electronic check' 'Credit card (automatic)'\n",
            " 'Bank transfer (automatic)']\n",
            "----------------------------------------\n",
            "Columna 'Charges.Monthly': 1585 valores únicos\n",
            "Columna 'Charges.Total': 6531 valores únicos\n"
          ]
        }
      ],
      "source": [
        "for col in Datos_Norm.columns:\n",
        "    únicos = Datos_Norm[col].nunique(dropna=False)\n",
        "    print(f\"Columna '{col}': {únicos} valores únicos\")\n",
        "    if únicos <= 50:    # Imprima los valores si no hay muchos\n",
        "        print(Datos_Norm[col].unique())\n",
        "        print('-' * 40) # Linea divisora para una mejor visualizacion"
      ]
    },
    {
      "cell_type": "markdown",
      "metadata": {},
      "source": [
        "##### Tipos de datos"
      ]
    },
    {
      "cell_type": "code",
      "execution_count": 19,
      "metadata": {},
      "outputs": [
        {
          "name": "stdout",
          "output_type": "stream",
          "text": [
            "▶ Tipos de datos:\n",
            "\n",
            "customerID           object\n",
            "Churn                object\n",
            "gender               object\n",
            "SeniorCitizen         int64\n",
            "Partner              object\n",
            "Dependents           object\n",
            "tenure                int64\n",
            "PhoneService         object\n",
            "MultipleLines        object\n",
            "InternetService      object\n",
            "OnlineSecurity       object\n",
            "OnlineBackup         object\n",
            "DeviceProtection     object\n",
            "TechSupport          object\n",
            "StreamingTV          object\n",
            "StreamingMovies      object\n",
            "Contract             object\n",
            "PaperlessBilling     object\n",
            "PaymentMethod        object\n",
            "Charges.Monthly     float64\n",
            "Charges.Total        object\n",
            "dtype: object\n",
            "\n",
            "▶ Columnas tipo object que podrían ser numéricas:\n",
            "\n",
            "• Charges.Total: contiene valores que parecen números pero están como texto.\n"
          ]
        }
      ],
      "source": [
        "print(\"▶ Tipos de datos:\\n\")\n",
        "print(Datos_Norm.dtypes)\n",
        "print(\"\\n▶ Columnas tipo object que podrían ser numéricas:\\n\")\n",
        "for col in Datos_Norm.select_dtypes(include='object'):\n",
        "    muestra = Datos_Norm[col].dropna().astype(str).str.replace('.', '', 1).str.isnumeric()\n",
        "    if muestra.sum() > 0 and muestra.sum() < len(Datos_Norm[col]):\n",
        "        print(f\"• {col}: contiene valores que parecen números pero están como texto.\")"
      ]
    },
    {
      "cell_type": "code",
      "execution_count": null,
      "metadata": {},
      "outputs": [],
      "source": []
    },
    {
      "cell_type": "markdown",
      "metadata": {},
      "source": [
        "##### Normalizacion de texto"
      ]
    },
    {
      "cell_type": "markdown",
      "metadata": {},
      "source": [
        "### Manejo de inconsistencias\n",
        "Ahora que has identificado las inconsistencias, es momento de aplicar las correcciones necesarias. Ajusta los datos para asegurarte de que estén completos y coherentes, preparándolos para las siguientes etapas del análisis.\n"
      ]
    },
    {
      "cell_type": "markdown",
      "metadata": {},
      "source": [
        "#### Manejo de tipo de datos"
      ]
    },
    {
      "cell_type": "markdown",
      "metadata": {},
      "source": [
        "##### Uso de memoria Anterior"
      ]
    },
    {
      "cell_type": "code",
      "execution_count": 20,
      "metadata": {},
      "outputs": [
        {
          "name": "stdout",
          "output_type": "stream",
          "text": [
            "<class 'pandas.core.frame.DataFrame'>\n",
            "RangeIndex: 7267 entries, 0 to 7266\n",
            "Data columns (total 21 columns):\n",
            " #   Column            Non-Null Count  Dtype  \n",
            "---  ------            --------------  -----  \n",
            " 0   customerID        7267 non-null   object \n",
            " 1   Churn             7267 non-null   object \n",
            " 2   gender            7267 non-null   object \n",
            " 3   SeniorCitizen     7267 non-null   int64  \n",
            " 4   Partner           7267 non-null   object \n",
            " 5   Dependents        7267 non-null   object \n",
            " 6   tenure            7267 non-null   int64  \n",
            " 7   PhoneService      7267 non-null   object \n",
            " 8   MultipleLines     7267 non-null   object \n",
            " 9   InternetService   7267 non-null   object \n",
            " 10  OnlineSecurity    7267 non-null   object \n",
            " 11  OnlineBackup      7267 non-null   object \n",
            " 12  DeviceProtection  7267 non-null   object \n",
            " 13  TechSupport       7267 non-null   object \n",
            " 14  StreamingTV       7267 non-null   object \n",
            " 15  StreamingMovies   7267 non-null   object \n",
            " 16  Contract          7267 non-null   object \n",
            " 17  PaperlessBilling  7267 non-null   object \n",
            " 18  PaymentMethod     7267 non-null   object \n",
            " 19  Charges.Monthly   7267 non-null   float64\n",
            " 20  Charges.Total     7267 non-null   object \n",
            "dtypes: float64(1), int64(2), object(18)\n",
            "memory usage: 7.0 MB\n"
          ]
        }
      ],
      "source": [
        "Datos_Norm.info(memory_usage='deep')"
      ]
    },
    {
      "cell_type": "markdown",
      "metadata": {},
      "source": [
        "##### Cambio de tipo de dato [*float*], [*string*] y [*bool*]"
      ]
    },
    {
      "cell_type": "code",
      "execution_count": 21,
      "metadata": {},
      "outputs": [],
      "source": [
        "Datos_Norm['Charges.Total'] = pd.to_numeric(Datos_Norm['Charges.Total'], errors='coerce').fillna(0)\n",
        "Datos_Norm['customerID'] = Datos_Norm['customerID'].astype('string')\n",
        "Datos_Norm['SeniorCitizen'] = Datos_Norm['SeniorCitizen'].astype('bool')\n"
      ]
    },
    {
      "cell_type": "markdown",
      "metadata": {},
      "source": [
        "##### Cambio de tipo de dato [*Categorico*]"
      ]
    },
    {
      "cell_type": "code",
      "execution_count": 22,
      "metadata": {},
      "outputs": [],
      "source": [
        "# Columnas categóricas\n",
        "columnas_categoricas = [\n",
        "    'gender', 'Partner', 'Dependents', 'Churn', 'PhoneService',\n",
        "    'MultipleLines', 'InternetService', 'OnlineSecurity', 'OnlineBackup',\n",
        "    'DeviceProtection', 'TechSupport', 'StreamingTV', 'StreamingMovies',\n",
        "    'Contract', 'PaperlessBilling', 'PaymentMethod'\n",
        "]\n",
        "\n",
        "for col in columnas_categoricas:\n",
        "    Datos_Norm[col] = Datos_Norm[col].astype('category')"
      ]
    },
    {
      "cell_type": "code",
      "execution_count": 23,
      "metadata": {},
      "outputs": [
        {
          "name": "stdout",
          "output_type": "stream",
          "text": [
            "<class 'pandas.core.frame.DataFrame'>\n",
            "RangeIndex: 7267 entries, 0 to 7266\n",
            "Data columns (total 21 columns):\n",
            " #   Column            Non-Null Count  Dtype   \n",
            "---  ------            --------------  -----   \n",
            " 0   customerID        7267 non-null   string  \n",
            " 1   Churn             7267 non-null   category\n",
            " 2   gender            7267 non-null   category\n",
            " 3   SeniorCitizen     7267 non-null   bool    \n",
            " 4   Partner           7267 non-null   category\n",
            " 5   Dependents        7267 non-null   category\n",
            " 6   tenure            7267 non-null   int64   \n",
            " 7   PhoneService      7267 non-null   category\n",
            " 8   MultipleLines     7267 non-null   category\n",
            " 9   InternetService   7267 non-null   category\n",
            " 10  OnlineSecurity    7267 non-null   category\n",
            " 11  OnlineBackup      7267 non-null   category\n",
            " 12  DeviceProtection  7267 non-null   category\n",
            " 13  TechSupport       7267 non-null   category\n",
            " 14  StreamingTV       7267 non-null   category\n",
            " 15  StreamingMovies   7267 non-null   category\n",
            " 16  Contract          7267 non-null   category\n",
            " 17  PaperlessBilling  7267 non-null   category\n",
            " 18  PaymentMethod     7267 non-null   category\n",
            " 19  Charges.Monthly   7267 non-null   float64 \n",
            " 20  Charges.Total     7267 non-null   float64 \n",
            "dtypes: bool(1), category(16), float64(2), int64(1), string(1)\n",
            "memory usage: 714.0 KB\n"
          ]
        }
      ],
      "source": [
        "# Analizando el uso de memoria con el cambio de tipo de dato\n",
        "Datos_Norm.info(memory_usage='deep')"
      ]
    },
    {
      "cell_type": "markdown",
      "metadata": {},
      "source": [
        "#### Manejo de Columnas"
      ]
    },
    {
      "cell_type": "markdown",
      "metadata": {},
      "source": [
        "##### Estandarizacion de caracteres"
      ]
    },
    {
      "cell_type": "code",
      "execution_count": 24,
      "metadata": {},
      "outputs": [
        {
          "data": {
            "text/html": [
              "<div>\n",
              "<style scoped>\n",
              "    .dataframe tbody tr th:only-of-type {\n",
              "        vertical-align: middle;\n",
              "    }\n",
              "\n",
              "    .dataframe tbody tr th {\n",
              "        vertical-align: top;\n",
              "    }\n",
              "\n",
              "    .dataframe thead th {\n",
              "        text-align: right;\n",
              "    }\n",
              "</style>\n",
              "<table border=\"1\" class=\"dataframe\">\n",
              "  <thead>\n",
              "    <tr style=\"text-align: right;\">\n",
              "      <th></th>\n",
              "      <th>customerid</th>\n",
              "      <th>churn</th>\n",
              "      <th>gender</th>\n",
              "      <th>seniorcitizen</th>\n",
              "      <th>partner</th>\n",
              "      <th>dependents</th>\n",
              "      <th>tenure</th>\n",
              "      <th>phoneservice</th>\n",
              "      <th>multiplelines</th>\n",
              "      <th>internetservice</th>\n",
              "      <th>...</th>\n",
              "      <th>onlinebackup</th>\n",
              "      <th>deviceprotection</th>\n",
              "      <th>techsupport</th>\n",
              "      <th>streamingtv</th>\n",
              "      <th>streamingmovies</th>\n",
              "      <th>contract</th>\n",
              "      <th>paperlessbilling</th>\n",
              "      <th>paymentmethod</th>\n",
              "      <th>charges.monthly</th>\n",
              "      <th>charges.total</th>\n",
              "    </tr>\n",
              "  </thead>\n",
              "  <tbody>\n",
              "    <tr>\n",
              "      <th>0</th>\n",
              "      <td>0002-ORFBO</td>\n",
              "      <td>No</td>\n",
              "      <td>Female</td>\n",
              "      <td>False</td>\n",
              "      <td>Yes</td>\n",
              "      <td>Yes</td>\n",
              "      <td>9</td>\n",
              "      <td>Yes</td>\n",
              "      <td>No</td>\n",
              "      <td>DSL</td>\n",
              "      <td>...</td>\n",
              "      <td>Yes</td>\n",
              "      <td>No</td>\n",
              "      <td>Yes</td>\n",
              "      <td>Yes</td>\n",
              "      <td>No</td>\n",
              "      <td>One year</td>\n",
              "      <td>Yes</td>\n",
              "      <td>Mailed check</td>\n",
              "      <td>65.6</td>\n",
              "      <td>593.30</td>\n",
              "    </tr>\n",
              "    <tr>\n",
              "      <th>1</th>\n",
              "      <td>0003-MKNFE</td>\n",
              "      <td>No</td>\n",
              "      <td>Male</td>\n",
              "      <td>False</td>\n",
              "      <td>No</td>\n",
              "      <td>No</td>\n",
              "      <td>9</td>\n",
              "      <td>Yes</td>\n",
              "      <td>Yes</td>\n",
              "      <td>DSL</td>\n",
              "      <td>...</td>\n",
              "      <td>No</td>\n",
              "      <td>No</td>\n",
              "      <td>No</td>\n",
              "      <td>No</td>\n",
              "      <td>Yes</td>\n",
              "      <td>Month-to-month</td>\n",
              "      <td>No</td>\n",
              "      <td>Mailed check</td>\n",
              "      <td>59.9</td>\n",
              "      <td>542.40</td>\n",
              "    </tr>\n",
              "    <tr>\n",
              "      <th>2</th>\n",
              "      <td>0004-TLHLJ</td>\n",
              "      <td>Yes</td>\n",
              "      <td>Male</td>\n",
              "      <td>False</td>\n",
              "      <td>No</td>\n",
              "      <td>No</td>\n",
              "      <td>4</td>\n",
              "      <td>Yes</td>\n",
              "      <td>No</td>\n",
              "      <td>Fiber optic</td>\n",
              "      <td>...</td>\n",
              "      <td>No</td>\n",
              "      <td>Yes</td>\n",
              "      <td>No</td>\n",
              "      <td>No</td>\n",
              "      <td>No</td>\n",
              "      <td>Month-to-month</td>\n",
              "      <td>Yes</td>\n",
              "      <td>Electronic check</td>\n",
              "      <td>73.9</td>\n",
              "      <td>280.85</td>\n",
              "    </tr>\n",
              "    <tr>\n",
              "      <th>3</th>\n",
              "      <td>0011-IGKFF</td>\n",
              "      <td>Yes</td>\n",
              "      <td>Male</td>\n",
              "      <td>True</td>\n",
              "      <td>Yes</td>\n",
              "      <td>No</td>\n",
              "      <td>13</td>\n",
              "      <td>Yes</td>\n",
              "      <td>No</td>\n",
              "      <td>Fiber optic</td>\n",
              "      <td>...</td>\n",
              "      <td>Yes</td>\n",
              "      <td>Yes</td>\n",
              "      <td>No</td>\n",
              "      <td>Yes</td>\n",
              "      <td>Yes</td>\n",
              "      <td>Month-to-month</td>\n",
              "      <td>Yes</td>\n",
              "      <td>Electronic check</td>\n",
              "      <td>98.0</td>\n",
              "      <td>1237.85</td>\n",
              "    </tr>\n",
              "    <tr>\n",
              "      <th>4</th>\n",
              "      <td>0013-EXCHZ</td>\n",
              "      <td>Yes</td>\n",
              "      <td>Female</td>\n",
              "      <td>True</td>\n",
              "      <td>Yes</td>\n",
              "      <td>No</td>\n",
              "      <td>3</td>\n",
              "      <td>Yes</td>\n",
              "      <td>No</td>\n",
              "      <td>Fiber optic</td>\n",
              "      <td>...</td>\n",
              "      <td>No</td>\n",
              "      <td>No</td>\n",
              "      <td>Yes</td>\n",
              "      <td>Yes</td>\n",
              "      <td>No</td>\n",
              "      <td>Month-to-month</td>\n",
              "      <td>Yes</td>\n",
              "      <td>Mailed check</td>\n",
              "      <td>83.9</td>\n",
              "      <td>267.40</td>\n",
              "    </tr>\n",
              "  </tbody>\n",
              "</table>\n",
              "<p>5 rows × 21 columns</p>\n",
              "</div>"
            ],
            "text/plain": [
              "   customerid churn  gender  seniorcitizen partner dependents  tenure  \\\n",
              "0  0002-ORFBO    No  Female          False     Yes        Yes       9   \n",
              "1  0003-MKNFE    No    Male          False      No         No       9   \n",
              "2  0004-TLHLJ   Yes    Male          False      No         No       4   \n",
              "3  0011-IGKFF   Yes    Male           True     Yes         No      13   \n",
              "4  0013-EXCHZ   Yes  Female           True     Yes         No       3   \n",
              "\n",
              "  phoneservice multiplelines internetservice  ... onlinebackup  \\\n",
              "0          Yes            No             DSL  ...          Yes   \n",
              "1          Yes           Yes             DSL  ...           No   \n",
              "2          Yes            No     Fiber optic  ...           No   \n",
              "3          Yes            No     Fiber optic  ...          Yes   \n",
              "4          Yes            No     Fiber optic  ...           No   \n",
              "\n",
              "  deviceprotection techsupport streamingtv streamingmovies        contract  \\\n",
              "0               No         Yes         Yes              No        One year   \n",
              "1               No          No          No             Yes  Month-to-month   \n",
              "2              Yes          No          No              No  Month-to-month   \n",
              "3              Yes          No         Yes             Yes  Month-to-month   \n",
              "4               No         Yes         Yes              No  Month-to-month   \n",
              "\n",
              "  paperlessbilling     paymentmethod charges.monthly  charges.total  \n",
              "0              Yes      Mailed check            65.6         593.30  \n",
              "1               No      Mailed check            59.9         542.40  \n",
              "2              Yes  Electronic check            73.9         280.85  \n",
              "3              Yes  Electronic check            98.0        1237.85  \n",
              "4              Yes      Mailed check            83.9         267.40  \n",
              "\n",
              "[5 rows x 21 columns]"
            ]
          },
          "execution_count": 24,
          "metadata": {},
          "output_type": "execute_result"
        }
      ],
      "source": [
        "Datos_Norm.columns = Datos_Norm.columns.str.lower().str.replace(' ', '_')\n",
        "Datos_Norm.head()"
      ]
    },
    {
      "cell_type": "markdown",
      "metadata": {},
      "source": [
        "##### Verificacion de datos nulos"
      ]
    },
    {
      "cell_type": "code",
      "execution_count": 25,
      "metadata": {},
      "outputs": [
        {
          "name": "stdout",
          "output_type": "stream",
          "text": [
            "Valores nulos por columna:\n",
            " PaymentMethod []\n"
          ]
        }
      ],
      "source": [
        "valores_nulos = Datos_Norm.isna().values.sum() \n",
        "print(f\"Valores nulos por columna:\\n {col} {valores_nulos [valores_nulos > 0]}\") \n"
      ]
    },
    {
      "cell_type": "code",
      "execution_count": 26,
      "metadata": {},
      "outputs": [],
      "source": [
        "for col in Datos_Norm.columns:\n",
        "    vacios = Datos_Norm[col].isna().values.sum()# Cuenta los valores exactamente iguales a \"\"\n",
        "    if vacios > 0:\n",
        "        print(f\" • {col}: {vacios} valores nulos\")\n",
        "        print(Datos_Norm[Datos_Norm[col].isna()][col].sample(5))"
      ]
    },
    {
      "cell_type": "code",
      "execution_count": 27,
      "metadata": {},
      "outputs": [
        {
          "data": {
            "text/plain": [
              "customerid            4075-WKNIU\n",
              "churn                         No\n",
              "gender                    Female\n",
              "seniorcitizen              False\n",
              "partner                      Yes\n",
              "dependents                   Yes\n",
              "tenure                         0\n",
              "phoneservice                 Yes\n",
              "multiplelines                Yes\n",
              "internetservice              DSL\n",
              "onlinesecurity                No\n",
              "onlinebackup                 Yes\n",
              "deviceprotection             Yes\n",
              "techsupport                  Yes\n",
              "streamingtv                  Yes\n",
              "streamingmovies               No\n",
              "contract                Two year\n",
              "paperlessbilling              No\n",
              "paymentmethod       Mailed check\n",
              "charges.monthly            73.35\n",
              "charges.total                0.0\n",
              "Name: 2930, dtype: object"
            ]
          },
          "execution_count": 27,
          "metadata": {},
          "output_type": "execute_result"
        }
      ],
      "source": [
        "Datos_Norm.iloc[2930]"
      ]
    },
    {
      "cell_type": "markdown",
      "metadata": {},
      "source": [
        "Pareciera que los Nan y el Valor de 0 en la columna 'tenure' coincide."
      ]
    },
    {
      "cell_type": "markdown",
      "metadata": {},
      "source": [
        "#### Consulta de tenure y los valores Nan"
      ]
    },
    {
      "cell_type": "markdown",
      "metadata": {},
      "source": [
        "Prueba\n",
        "\n",
        "Aqui vemos que la relacion de tenure = 1\n",
        "quiere decir que las columnas 'charges.monthly' y 'charges.total' son iguales"
      ]
    },
    {
      "cell_type": "code",
      "execution_count": 28,
      "metadata": {},
      "outputs": [
        {
          "data": {
            "text/html": [
              "<div>\n",
              "<style scoped>\n",
              "    .dataframe tbody tr th:only-of-type {\n",
              "        vertical-align: middle;\n",
              "    }\n",
              "\n",
              "    .dataframe tbody tr th {\n",
              "        vertical-align: top;\n",
              "    }\n",
              "\n",
              "    .dataframe thead th {\n",
              "        text-align: right;\n",
              "    }\n",
              "</style>\n",
              "<table border=\"1\" class=\"dataframe\">\n",
              "  <thead>\n",
              "    <tr style=\"text-align: right;\">\n",
              "      <th></th>\n",
              "      <th>customerid</th>\n",
              "      <th>churn</th>\n",
              "      <th>gender</th>\n",
              "      <th>seniorcitizen</th>\n",
              "      <th>partner</th>\n",
              "      <th>dependents</th>\n",
              "      <th>tenure</th>\n",
              "      <th>phoneservice</th>\n",
              "      <th>multiplelines</th>\n",
              "      <th>internetservice</th>\n",
              "      <th>...</th>\n",
              "      <th>onlinebackup</th>\n",
              "      <th>deviceprotection</th>\n",
              "      <th>techsupport</th>\n",
              "      <th>streamingtv</th>\n",
              "      <th>streamingmovies</th>\n",
              "      <th>contract</th>\n",
              "      <th>paperlessbilling</th>\n",
              "      <th>paymentmethod</th>\n",
              "      <th>charges.monthly</th>\n",
              "      <th>charges.total</th>\n",
              "    </tr>\n",
              "  </thead>\n",
              "  <tbody>\n",
              "    <tr>\n",
              "      <th>17</th>\n",
              "      <td>0021-IKXGC</td>\n",
              "      <td>No</td>\n",
              "      <td>Female</td>\n",
              "      <td>True</td>\n",
              "      <td>No</td>\n",
              "      <td>No</td>\n",
              "      <td>1</td>\n",
              "      <td>Yes</td>\n",
              "      <td>Yes</td>\n",
              "      <td>Fiber optic</td>\n",
              "      <td>...</td>\n",
              "      <td>No</td>\n",
              "      <td>No</td>\n",
              "      <td>No</td>\n",
              "      <td>No</td>\n",
              "      <td>No</td>\n",
              "      <td>Month-to-month</td>\n",
              "      <td>Yes</td>\n",
              "      <td>Electronic check</td>\n",
              "      <td>72.1</td>\n",
              "      <td>72.1</td>\n",
              "    </tr>\n",
              "    <tr>\n",
              "      <th>19</th>\n",
              "      <td>0023-HGHWL</td>\n",
              "      <td>Yes</td>\n",
              "      <td>Male</td>\n",
              "      <td>True</td>\n",
              "      <td>No</td>\n",
              "      <td>No</td>\n",
              "      <td>1</td>\n",
              "      <td>No</td>\n",
              "      <td>No phone service</td>\n",
              "      <td>DSL</td>\n",
              "      <td>...</td>\n",
              "      <td>No</td>\n",
              "      <td>No</td>\n",
              "      <td>No</td>\n",
              "      <td>No</td>\n",
              "      <td>No</td>\n",
              "      <td>Month-to-month</td>\n",
              "      <td>Yes</td>\n",
              "      <td>Electronic check</td>\n",
              "      <td>25.1</td>\n",
              "      <td>25.1</td>\n",
              "    </tr>\n",
              "    <tr>\n",
              "      <th>25</th>\n",
              "      <td>0032-PGELS</td>\n",
              "      <td>Yes</td>\n",
              "      <td>Female</td>\n",
              "      <td>False</td>\n",
              "      <td>Yes</td>\n",
              "      <td>Yes</td>\n",
              "      <td>1</td>\n",
              "      <td>No</td>\n",
              "      <td>No phone service</td>\n",
              "      <td>DSL</td>\n",
              "      <td>...</td>\n",
              "      <td>No</td>\n",
              "      <td>No</td>\n",
              "      <td>No</td>\n",
              "      <td>No</td>\n",
              "      <td>No</td>\n",
              "      <td>Month-to-month</td>\n",
              "      <td>No</td>\n",
              "      <td>Bank transfer (automatic)</td>\n",
              "      <td>30.5</td>\n",
              "      <td>30.5</td>\n",
              "    </tr>\n",
              "  </tbody>\n",
              "</table>\n",
              "<p>3 rows × 21 columns</p>\n",
              "</div>"
            ],
            "text/plain": [
              "    customerid churn  gender  seniorcitizen partner dependents  tenure  \\\n",
              "17  0021-IKXGC    No  Female           True      No         No       1   \n",
              "19  0023-HGHWL   Yes    Male           True      No         No       1   \n",
              "25  0032-PGELS   Yes  Female          False     Yes        Yes       1   \n",
              "\n",
              "   phoneservice     multiplelines internetservice  ... onlinebackup  \\\n",
              "17          Yes               Yes     Fiber optic  ...           No   \n",
              "19           No  No phone service             DSL  ...           No   \n",
              "25           No  No phone service             DSL  ...           No   \n",
              "\n",
              "   deviceprotection techsupport streamingtv streamingmovies        contract  \\\n",
              "17               No          No          No              No  Month-to-month   \n",
              "19               No          No          No              No  Month-to-month   \n",
              "25               No          No          No              No  Month-to-month   \n",
              "\n",
              "   paperlessbilling              paymentmethod charges.monthly  charges.total  \n",
              "17              Yes           Electronic check            72.1           72.1  \n",
              "19              Yes           Electronic check            25.1           25.1  \n",
              "25               No  Bank transfer (automatic)            30.5           30.5  \n",
              "\n",
              "[3 rows x 21 columns]"
            ]
          },
          "execution_count": 28,
          "metadata": {},
          "output_type": "execute_result"
        }
      ],
      "source": [
        "tenure_1 = Datos_Norm[Datos_Norm['tenure'] == 1]\n",
        "tenure_1.head(3)"
      ]
    },
    {
      "cell_type": "code",
      "execution_count": 29,
      "metadata": {},
      "outputs": [
        {
          "data": {
            "text/plain": [
              "True"
            ]
          },
          "execution_count": 29,
          "metadata": {},
          "output_type": "execute_result"
        }
      ],
      "source": [
        "# Esto es para verificar que los customerid de tenure_0 y Valor_Nan son los mismos\n",
        "comparacion_equals_2 = tenure_1['charges.monthly'].equals(tenure_1['charges.total'])\n",
        "comparacion_equals_2"
      ]
    },
    {
      "cell_type": "markdown",
      "metadata": {},
      "source": [
        "Buscamos tenure con equivalencia a 0"
      ]
    },
    {
      "cell_type": "code",
      "execution_count": 30,
      "metadata": {},
      "outputs": [
        {
          "data": {
            "text/html": [
              "<div>\n",
              "<style scoped>\n",
              "    .dataframe tbody tr th:only-of-type {\n",
              "        vertical-align: middle;\n",
              "    }\n",
              "\n",
              "    .dataframe tbody tr th {\n",
              "        vertical-align: top;\n",
              "    }\n",
              "\n",
              "    .dataframe thead th {\n",
              "        text-align: right;\n",
              "    }\n",
              "</style>\n",
              "<table border=\"1\" class=\"dataframe\">\n",
              "  <thead>\n",
              "    <tr style=\"text-align: right;\">\n",
              "      <th></th>\n",
              "      <th>customerid</th>\n",
              "      <th>churn</th>\n",
              "      <th>gender</th>\n",
              "      <th>seniorcitizen</th>\n",
              "      <th>partner</th>\n",
              "      <th>dependents</th>\n",
              "      <th>tenure</th>\n",
              "      <th>phoneservice</th>\n",
              "      <th>multiplelines</th>\n",
              "      <th>internetservice</th>\n",
              "      <th>...</th>\n",
              "      <th>onlinebackup</th>\n",
              "      <th>deviceprotection</th>\n",
              "      <th>techsupport</th>\n",
              "      <th>streamingtv</th>\n",
              "      <th>streamingmovies</th>\n",
              "      <th>contract</th>\n",
              "      <th>paperlessbilling</th>\n",
              "      <th>paymentmethod</th>\n",
              "      <th>charges.monthly</th>\n",
              "      <th>charges.total</th>\n",
              "    </tr>\n",
              "  </thead>\n",
              "  <tbody>\n",
              "    <tr>\n",
              "      <th>975</th>\n",
              "      <td>1371-DWPAZ</td>\n",
              "      <td>No</td>\n",
              "      <td>Female</td>\n",
              "      <td>False</td>\n",
              "      <td>Yes</td>\n",
              "      <td>Yes</td>\n",
              "      <td>0</td>\n",
              "      <td>No</td>\n",
              "      <td>No phone service</td>\n",
              "      <td>DSL</td>\n",
              "      <td>...</td>\n",
              "      <td>Yes</td>\n",
              "      <td>Yes</td>\n",
              "      <td>Yes</td>\n",
              "      <td>Yes</td>\n",
              "      <td>No</td>\n",
              "      <td>Two year</td>\n",
              "      <td>No</td>\n",
              "      <td>Credit card (automatic)</td>\n",
              "      <td>56.05</td>\n",
              "      <td>0.0</td>\n",
              "    </tr>\n",
              "    <tr>\n",
              "      <th>1775</th>\n",
              "      <td>2520-SGTTA</td>\n",
              "      <td>No</td>\n",
              "      <td>Female</td>\n",
              "      <td>False</td>\n",
              "      <td>Yes</td>\n",
              "      <td>Yes</td>\n",
              "      <td>0</td>\n",
              "      <td>Yes</td>\n",
              "      <td>No</td>\n",
              "      <td>No</td>\n",
              "      <td>...</td>\n",
              "      <td>No internet service</td>\n",
              "      <td>No internet service</td>\n",
              "      <td>No internet service</td>\n",
              "      <td>No internet service</td>\n",
              "      <td>No internet service</td>\n",
              "      <td>Two year</td>\n",
              "      <td>No</td>\n",
              "      <td>Mailed check</td>\n",
              "      <td>20.00</td>\n",
              "      <td>0.0</td>\n",
              "    </tr>\n",
              "    <tr>\n",
              "      <th>1955</th>\n",
              "      <td>2775-SEFEE</td>\n",
              "      <td>No</td>\n",
              "      <td>Male</td>\n",
              "      <td>False</td>\n",
              "      <td>No</td>\n",
              "      <td>Yes</td>\n",
              "      <td>0</td>\n",
              "      <td>Yes</td>\n",
              "      <td>Yes</td>\n",
              "      <td>DSL</td>\n",
              "      <td>...</td>\n",
              "      <td>Yes</td>\n",
              "      <td>No</td>\n",
              "      <td>Yes</td>\n",
              "      <td>No</td>\n",
              "      <td>No</td>\n",
              "      <td>Two year</td>\n",
              "      <td>Yes</td>\n",
              "      <td>Bank transfer (automatic)</td>\n",
              "      <td>61.90</td>\n",
              "      <td>0.0</td>\n",
              "    </tr>\n",
              "    <tr>\n",
              "      <th>2075</th>\n",
              "      <td>2923-ARZLG</td>\n",
              "      <td>No</td>\n",
              "      <td>Male</td>\n",
              "      <td>False</td>\n",
              "      <td>Yes</td>\n",
              "      <td>Yes</td>\n",
              "      <td>0</td>\n",
              "      <td>Yes</td>\n",
              "      <td>No</td>\n",
              "      <td>No</td>\n",
              "      <td>...</td>\n",
              "      <td>No internet service</td>\n",
              "      <td>No internet service</td>\n",
              "      <td>No internet service</td>\n",
              "      <td>No internet service</td>\n",
              "      <td>No internet service</td>\n",
              "      <td>One year</td>\n",
              "      <td>Yes</td>\n",
              "      <td>Mailed check</td>\n",
              "      <td>19.70</td>\n",
              "      <td>0.0</td>\n",
              "    </tr>\n",
              "    <tr>\n",
              "      <th>2232</th>\n",
              "      <td>3115-CZMZD</td>\n",
              "      <td>No</td>\n",
              "      <td>Male</td>\n",
              "      <td>False</td>\n",
              "      <td>No</td>\n",
              "      <td>Yes</td>\n",
              "      <td>0</td>\n",
              "      <td>Yes</td>\n",
              "      <td>No</td>\n",
              "      <td>No</td>\n",
              "      <td>...</td>\n",
              "      <td>No internet service</td>\n",
              "      <td>No internet service</td>\n",
              "      <td>No internet service</td>\n",
              "      <td>No internet service</td>\n",
              "      <td>No internet service</td>\n",
              "      <td>Two year</td>\n",
              "      <td>No</td>\n",
              "      <td>Mailed check</td>\n",
              "      <td>20.25</td>\n",
              "      <td>0.0</td>\n",
              "    </tr>\n",
              "    <tr>\n",
              "      <th>2308</th>\n",
              "      <td>3213-VVOLG</td>\n",
              "      <td>No</td>\n",
              "      <td>Male</td>\n",
              "      <td>False</td>\n",
              "      <td>Yes</td>\n",
              "      <td>Yes</td>\n",
              "      <td>0</td>\n",
              "      <td>Yes</td>\n",
              "      <td>Yes</td>\n",
              "      <td>No</td>\n",
              "      <td>...</td>\n",
              "      <td>No internet service</td>\n",
              "      <td>No internet service</td>\n",
              "      <td>No internet service</td>\n",
              "      <td>No internet service</td>\n",
              "      <td>No internet service</td>\n",
              "      <td>Two year</td>\n",
              "      <td>No</td>\n",
              "      <td>Mailed check</td>\n",
              "      <td>25.35</td>\n",
              "      <td>0.0</td>\n",
              "    </tr>\n",
              "    <tr>\n",
              "      <th>2930</th>\n",
              "      <td>4075-WKNIU</td>\n",
              "      <td>No</td>\n",
              "      <td>Female</td>\n",
              "      <td>False</td>\n",
              "      <td>Yes</td>\n",
              "      <td>Yes</td>\n",
              "      <td>0</td>\n",
              "      <td>Yes</td>\n",
              "      <td>Yes</td>\n",
              "      <td>DSL</td>\n",
              "      <td>...</td>\n",
              "      <td>Yes</td>\n",
              "      <td>Yes</td>\n",
              "      <td>Yes</td>\n",
              "      <td>Yes</td>\n",
              "      <td>No</td>\n",
              "      <td>Two year</td>\n",
              "      <td>No</td>\n",
              "      <td>Mailed check</td>\n",
              "      <td>73.35</td>\n",
              "      <td>0.0</td>\n",
              "    </tr>\n",
              "    <tr>\n",
              "      <th>3134</th>\n",
              "      <td>4367-NUYAO</td>\n",
              "      <td>No</td>\n",
              "      <td>Male</td>\n",
              "      <td>False</td>\n",
              "      <td>Yes</td>\n",
              "      <td>Yes</td>\n",
              "      <td>0</td>\n",
              "      <td>Yes</td>\n",
              "      <td>Yes</td>\n",
              "      <td>No</td>\n",
              "      <td>...</td>\n",
              "      <td>No internet service</td>\n",
              "      <td>No internet service</td>\n",
              "      <td>No internet service</td>\n",
              "      <td>No internet service</td>\n",
              "      <td>No internet service</td>\n",
              "      <td>Two year</td>\n",
              "      <td>No</td>\n",
              "      <td>Mailed check</td>\n",
              "      <td>25.75</td>\n",
              "      <td>0.0</td>\n",
              "    </tr>\n",
              "    <tr>\n",
              "      <th>3203</th>\n",
              "      <td>4472-LVYGI</td>\n",
              "      <td>No</td>\n",
              "      <td>Female</td>\n",
              "      <td>False</td>\n",
              "      <td>Yes</td>\n",
              "      <td>Yes</td>\n",
              "      <td>0</td>\n",
              "      <td>No</td>\n",
              "      <td>No phone service</td>\n",
              "      <td>DSL</td>\n",
              "      <td>...</td>\n",
              "      <td>No</td>\n",
              "      <td>Yes</td>\n",
              "      <td>Yes</td>\n",
              "      <td>Yes</td>\n",
              "      <td>No</td>\n",
              "      <td>Two year</td>\n",
              "      <td>Yes</td>\n",
              "      <td>Bank transfer (automatic)</td>\n",
              "      <td>52.55</td>\n",
              "      <td>0.0</td>\n",
              "    </tr>\n",
              "    <tr>\n",
              "      <th>4169</th>\n",
              "      <td>5709-LVOEQ</td>\n",
              "      <td>No</td>\n",
              "      <td>Female</td>\n",
              "      <td>False</td>\n",
              "      <td>Yes</td>\n",
              "      <td>Yes</td>\n",
              "      <td>0</td>\n",
              "      <td>Yes</td>\n",
              "      <td>No</td>\n",
              "      <td>DSL</td>\n",
              "      <td>...</td>\n",
              "      <td>Yes</td>\n",
              "      <td>Yes</td>\n",
              "      <td>No</td>\n",
              "      <td>Yes</td>\n",
              "      <td>Yes</td>\n",
              "      <td>Two year</td>\n",
              "      <td>No</td>\n",
              "      <td>Mailed check</td>\n",
              "      <td>80.85</td>\n",
              "      <td>0.0</td>\n",
              "    </tr>\n",
              "    <tr>\n",
              "      <th>5599</th>\n",
              "      <td>7644-OMVMY</td>\n",
              "      <td>No</td>\n",
              "      <td>Male</td>\n",
              "      <td>False</td>\n",
              "      <td>Yes</td>\n",
              "      <td>Yes</td>\n",
              "      <td>0</td>\n",
              "      <td>Yes</td>\n",
              "      <td>No</td>\n",
              "      <td>No</td>\n",
              "      <td>...</td>\n",
              "      <td>No internet service</td>\n",
              "      <td>No internet service</td>\n",
              "      <td>No internet service</td>\n",
              "      <td>No internet service</td>\n",
              "      <td>No internet service</td>\n",
              "      <td>Two year</td>\n",
              "      <td>No</td>\n",
              "      <td>Mailed check</td>\n",
              "      <td>19.85</td>\n",
              "      <td>0.0</td>\n",
              "    </tr>\n",
              "  </tbody>\n",
              "</table>\n",
              "<p>11 rows × 21 columns</p>\n",
              "</div>"
            ],
            "text/plain": [
              "      customerid churn  gender  seniorcitizen partner dependents  tenure  \\\n",
              "975   1371-DWPAZ    No  Female          False     Yes        Yes       0   \n",
              "1775  2520-SGTTA    No  Female          False     Yes        Yes       0   \n",
              "1955  2775-SEFEE    No    Male          False      No        Yes       0   \n",
              "2075  2923-ARZLG    No    Male          False     Yes        Yes       0   \n",
              "2232  3115-CZMZD    No    Male          False      No        Yes       0   \n",
              "2308  3213-VVOLG    No    Male          False     Yes        Yes       0   \n",
              "2930  4075-WKNIU    No  Female          False     Yes        Yes       0   \n",
              "3134  4367-NUYAO    No    Male          False     Yes        Yes       0   \n",
              "3203  4472-LVYGI    No  Female          False     Yes        Yes       0   \n",
              "4169  5709-LVOEQ    No  Female          False     Yes        Yes       0   \n",
              "5599  7644-OMVMY    No    Male          False     Yes        Yes       0   \n",
              "\n",
              "     phoneservice     multiplelines internetservice  ...         onlinebackup  \\\n",
              "975            No  No phone service             DSL  ...                  Yes   \n",
              "1775          Yes                No              No  ...  No internet service   \n",
              "1955          Yes               Yes             DSL  ...                  Yes   \n",
              "2075          Yes                No              No  ...  No internet service   \n",
              "2232          Yes                No              No  ...  No internet service   \n",
              "2308          Yes               Yes              No  ...  No internet service   \n",
              "2930          Yes               Yes             DSL  ...                  Yes   \n",
              "3134          Yes               Yes              No  ...  No internet service   \n",
              "3203           No  No phone service             DSL  ...                   No   \n",
              "4169          Yes                No             DSL  ...                  Yes   \n",
              "5599          Yes                No              No  ...  No internet service   \n",
              "\n",
              "         deviceprotection          techsupport          streamingtv  \\\n",
              "975                   Yes                  Yes                  Yes   \n",
              "1775  No internet service  No internet service  No internet service   \n",
              "1955                   No                  Yes                   No   \n",
              "2075  No internet service  No internet service  No internet service   \n",
              "2232  No internet service  No internet service  No internet service   \n",
              "2308  No internet service  No internet service  No internet service   \n",
              "2930                  Yes                  Yes                  Yes   \n",
              "3134  No internet service  No internet service  No internet service   \n",
              "3203                  Yes                  Yes                  Yes   \n",
              "4169                  Yes                   No                  Yes   \n",
              "5599  No internet service  No internet service  No internet service   \n",
              "\n",
              "          streamingmovies  contract paperlessbilling  \\\n",
              "975                    No  Two year               No   \n",
              "1775  No internet service  Two year               No   \n",
              "1955                   No  Two year              Yes   \n",
              "2075  No internet service  One year              Yes   \n",
              "2232  No internet service  Two year               No   \n",
              "2308  No internet service  Two year               No   \n",
              "2930                   No  Two year               No   \n",
              "3134  No internet service  Two year               No   \n",
              "3203                   No  Two year              Yes   \n",
              "4169                  Yes  Two year               No   \n",
              "5599  No internet service  Two year               No   \n",
              "\n",
              "                  paymentmethod charges.monthly  charges.total  \n",
              "975     Credit card (automatic)           56.05            0.0  \n",
              "1775               Mailed check           20.00            0.0  \n",
              "1955  Bank transfer (automatic)           61.90            0.0  \n",
              "2075               Mailed check           19.70            0.0  \n",
              "2232               Mailed check           20.25            0.0  \n",
              "2308               Mailed check           25.35            0.0  \n",
              "2930               Mailed check           73.35            0.0  \n",
              "3134               Mailed check           25.75            0.0  \n",
              "3203  Bank transfer (automatic)           52.55            0.0  \n",
              "4169               Mailed check           80.85            0.0  \n",
              "5599               Mailed check           19.85            0.0  \n",
              "\n",
              "[11 rows x 21 columns]"
            ]
          },
          "execution_count": 30,
          "metadata": {},
          "output_type": "execute_result"
        }
      ],
      "source": [
        "tenure_0 = Datos_Norm[Datos_Norm['tenure'] == 0]\n",
        "tenure_0.head(11)"
      ]
    },
    {
      "cell_type": "code",
      "execution_count": 31,
      "metadata": {},
      "outputs": [
        {
          "data": {
            "text/html": [
              "<div>\n",
              "<style scoped>\n",
              "    .dataframe tbody tr th:only-of-type {\n",
              "        vertical-align: middle;\n",
              "    }\n",
              "\n",
              "    .dataframe tbody tr th {\n",
              "        vertical-align: top;\n",
              "    }\n",
              "\n",
              "    .dataframe thead th {\n",
              "        text-align: right;\n",
              "    }\n",
              "</style>\n",
              "<table border=\"1\" class=\"dataframe\">\n",
              "  <thead>\n",
              "    <tr style=\"text-align: right;\">\n",
              "      <th></th>\n",
              "      <th>customerid</th>\n",
              "      <th>churn</th>\n",
              "      <th>gender</th>\n",
              "      <th>seniorcitizen</th>\n",
              "      <th>partner</th>\n",
              "      <th>dependents</th>\n",
              "      <th>tenure</th>\n",
              "      <th>phoneservice</th>\n",
              "      <th>multiplelines</th>\n",
              "      <th>internetservice</th>\n",
              "      <th>...</th>\n",
              "      <th>onlinebackup</th>\n",
              "      <th>deviceprotection</th>\n",
              "      <th>techsupport</th>\n",
              "      <th>streamingtv</th>\n",
              "      <th>streamingmovies</th>\n",
              "      <th>contract</th>\n",
              "      <th>paperlessbilling</th>\n",
              "      <th>paymentmethod</th>\n",
              "      <th>charges.monthly</th>\n",
              "      <th>charges.total</th>\n",
              "    </tr>\n",
              "  </thead>\n",
              "  <tbody>\n",
              "  </tbody>\n",
              "</table>\n",
              "<p>0 rows × 21 columns</p>\n",
              "</div>"
            ],
            "text/plain": [
              "Empty DataFrame\n",
              "Columns: [customerid, churn, gender, seniorcitizen, partner, dependents, tenure, phoneservice, multiplelines, internetservice, onlinesecurity, onlinebackup, deviceprotection, techsupport, streamingtv, streamingmovies, contract, paperlessbilling, paymentmethod, charges.monthly, charges.total]\n",
              "Index: []\n",
              "\n",
              "[0 rows x 21 columns]"
            ]
          },
          "execution_count": 31,
          "metadata": {},
          "output_type": "execute_result"
        }
      ],
      "source": [
        "Valor_Nan = Datos_Norm[Datos_Norm['charges.total'].isna()]\n",
        "Valor_Nan.head(11)"
      ]
    },
    {
      "cell_type": "code",
      "execution_count": null,
      "metadata": {},
      "outputs": [
        {
          "data": {
            "text/plain": [
              "False"
            ]
          },
          "execution_count": 56,
          "metadata": {},
          "output_type": "execute_result"
        }
      ],
      "source": [
        "# Esto es para verificar que los customerid de tenure_0 y Valor_Nan son los mismos\n",
        "comparacion_equals = tenure_0['customerid'].equals(Valor_Nan['customerid'])\n",
        "comparacion_equals"
      ]
    },
    {
      "cell_type": "markdown",
      "metadata": {},
      "source": [
        "Aun no se ha cobrado el servicio (Tenure = 0), por lo que no hay un valor de cobro total (NaN).\n",
        "Por lo tanto, no es necesario eliminar estos valores, ya que son válidos en el dataset.\n",
        "Así que, lo conveniente seria tratar al valor como 0 en el valor de cobro total."
      ]
    },
    {
      "cell_type": "markdown",
      "metadata": {},
      "source": [
        "#### Tratamiento de NaN"
      ]
    },
    {
      "cell_type": "markdown",
      "metadata": {},
      "source": [
        "Se añadio en la parte de 'Manejo de dato', un extra que al momento de normalizar, si encuentra un valor NaN lo reemplaze por \"0\"\n",
        "\n",
        "```\n",
        " Datos_Norm['Charges.Total'] = pd.to_numeric(Datos_Norm['Charges.Total'], errors='coerce').fillna(0)\n",
        "```"
      ]
    },
    {
      "cell_type": "markdown",
      "metadata": {},
      "source": [
        "#### Arreglo de \"\" en 'churn'"
      ]
    },
    {
      "cell_type": "markdown",
      "metadata": {},
      "source": [
        "Segun la comprobacion de Datos en Valores Vacios (\"\")<br>• Churn: Tiene 224 valores vacíos ('')\n"
      ]
    },
    {
      "cell_type": "markdown",
      "metadata": {},
      "source": [
        "##### Comprobar de datos (\"\") en Churn"
      ]
    },
    {
      "cell_type": "code",
      "execution_count": 33,
      "metadata": {},
      "outputs": [
        {
          "data": {
            "text/html": [
              "<div>\n",
              "<style scoped>\n",
              "    .dataframe tbody tr th:only-of-type {\n",
              "        vertical-align: middle;\n",
              "    }\n",
              "\n",
              "    .dataframe tbody tr th {\n",
              "        vertical-align: top;\n",
              "    }\n",
              "\n",
              "    .dataframe thead th {\n",
              "        text-align: right;\n",
              "    }\n",
              "</style>\n",
              "<table border=\"1\" class=\"dataframe\">\n",
              "  <thead>\n",
              "    <tr style=\"text-align: right;\">\n",
              "      <th></th>\n",
              "      <th>customerid</th>\n",
              "      <th>churn</th>\n",
              "      <th>gender</th>\n",
              "      <th>seniorcitizen</th>\n",
              "      <th>partner</th>\n",
              "      <th>dependents</th>\n",
              "      <th>tenure</th>\n",
              "      <th>phoneservice</th>\n",
              "      <th>multiplelines</th>\n",
              "      <th>internetservice</th>\n",
              "      <th>...</th>\n",
              "      <th>onlinebackup</th>\n",
              "      <th>deviceprotection</th>\n",
              "      <th>techsupport</th>\n",
              "      <th>streamingtv</th>\n",
              "      <th>streamingmovies</th>\n",
              "      <th>contract</th>\n",
              "      <th>paperlessbilling</th>\n",
              "      <th>paymentmethod</th>\n",
              "      <th>charges.monthly</th>\n",
              "      <th>charges.total</th>\n",
              "    </tr>\n",
              "  </thead>\n",
              "  <tbody>\n",
              "    <tr>\n",
              "      <th>4609</th>\n",
              "      <td>6319-ZXCPZ</td>\n",
              "      <td></td>\n",
              "      <td>Male</td>\n",
              "      <td>False</td>\n",
              "      <td>Yes</td>\n",
              "      <td>No</td>\n",
              "      <td>60</td>\n",
              "      <td>Yes</td>\n",
              "      <td>Yes</td>\n",
              "      <td>Fiber optic</td>\n",
              "      <td>...</td>\n",
              "      <td>Yes</td>\n",
              "      <td>Yes</td>\n",
              "      <td>No</td>\n",
              "      <td>Yes</td>\n",
              "      <td>No</td>\n",
              "      <td>Month-to-month</td>\n",
              "      <td>Yes</td>\n",
              "      <td>Electronic check</td>\n",
              "      <td>95.75</td>\n",
              "      <td>5742.90</td>\n",
              "    </tr>\n",
              "    <tr>\n",
              "      <th>3844</th>\n",
              "      <td>5264-IWHMU</td>\n",
              "      <td></td>\n",
              "      <td>Male</td>\n",
              "      <td>False</td>\n",
              "      <td>No</td>\n",
              "      <td>No</td>\n",
              "      <td>1</td>\n",
              "      <td>Yes</td>\n",
              "      <td>No</td>\n",
              "      <td>DSL</td>\n",
              "      <td>...</td>\n",
              "      <td>No</td>\n",
              "      <td>No</td>\n",
              "      <td>Yes</td>\n",
              "      <td>No</td>\n",
              "      <td>No</td>\n",
              "      <td>Month-to-month</td>\n",
              "      <td>No</td>\n",
              "      <td>Mailed check</td>\n",
              "      <td>49.05</td>\n",
              "      <td>49.05</td>\n",
              "    </tr>\n",
              "    <tr>\n",
              "      <th>5179</th>\n",
              "      <td>7069-PURBI</td>\n",
              "      <td></td>\n",
              "      <td>Female</td>\n",
              "      <td>False</td>\n",
              "      <td>Yes</td>\n",
              "      <td>No</td>\n",
              "      <td>14</td>\n",
              "      <td>Yes</td>\n",
              "      <td>No</td>\n",
              "      <td>No</td>\n",
              "      <td>...</td>\n",
              "      <td>No internet service</td>\n",
              "      <td>No internet service</td>\n",
              "      <td>No internet service</td>\n",
              "      <td>No internet service</td>\n",
              "      <td>No internet service</td>\n",
              "      <td>Two year</td>\n",
              "      <td>No</td>\n",
              "      <td>Mailed check</td>\n",
              "      <td>20.40</td>\n",
              "      <td>292.40</td>\n",
              "    </tr>\n",
              "  </tbody>\n",
              "</table>\n",
              "<p>3 rows × 21 columns</p>\n",
              "</div>"
            ],
            "text/plain": [
              "      customerid churn  gender  seniorcitizen partner dependents  tenure  \\\n",
              "4609  6319-ZXCPZ          Male          False     Yes         No      60   \n",
              "3844  5264-IWHMU          Male          False      No         No       1   \n",
              "5179  7069-PURBI        Female          False     Yes         No      14   \n",
              "\n",
              "     phoneservice multiplelines internetservice  ...         onlinebackup  \\\n",
              "4609          Yes           Yes     Fiber optic  ...                  Yes   \n",
              "3844          Yes            No             DSL  ...                   No   \n",
              "5179          Yes            No              No  ...  No internet service   \n",
              "\n",
              "         deviceprotection          techsupport          streamingtv  \\\n",
              "4609                  Yes                   No                  Yes   \n",
              "3844                   No                  Yes                   No   \n",
              "5179  No internet service  No internet service  No internet service   \n",
              "\n",
              "          streamingmovies        contract paperlessbilling     paymentmethod  \\\n",
              "4609                   No  Month-to-month              Yes  Electronic check   \n",
              "3844                   No  Month-to-month               No      Mailed check   \n",
              "5179  No internet service        Two year               No      Mailed check   \n",
              "\n",
              "     charges.monthly  charges.total  \n",
              "4609           95.75        5742.90  \n",
              "3844           49.05          49.05  \n",
              "5179           20.40         292.40  \n",
              "\n",
              "[3 rows x 21 columns]"
            ]
          },
          "execution_count": 33,
          "metadata": {},
          "output_type": "execute_result"
        }
      ],
      "source": [
        "Churn_a = Datos_Norm[Datos_Norm['churn'] == '']\n",
        "Churn_a.sample(3)"
      ]
    },
    {
      "cell_type": "code",
      "execution_count": 34,
      "metadata": {},
      "outputs": [
        {
          "name": "stdout",
          "output_type": "stream",
          "text": [
            " • churn: 224 valores vacíos ('')\n",
            "Las Filas tienen datos vacios son:  30    \n",
            "75    \n",
            "96    \n",
            "Name: churn, dtype: category\n",
            "Categories (3, object): ['', 'No', 'Yes']\n",
            "--------------------------------------------------\n"
          ]
        }
      ],
      "source": [
        "for col in Datos_Norm.columns:\n",
        "        vacios = (Datos_Norm[col] == \"\").sum()  # Cuenta los valores exactamente iguales a \"\"\n",
        "        #Si el numero de valores vacios es mayor a 0, muestra ejemplos de los datos vacios\n",
        "        if vacios > 0:\n",
        "            print(f\" • {col}: {vacios} valores vacíos ('')\")\n",
        "            print(f\"Las Filas tienen datos vacios son: \", Datos_Norm[Datos_Norm[col] == \"\"][col].head(3))  # Muestra ejemplos si hay vacíos\n",
        "            print('-' * 50)"
      ]
    },
    {
      "cell_type": "markdown",
      "metadata": {},
      "source": [
        "##### Funcion que transforma los datos vacios (\"\")"
      ]
    },
    {
      "cell_type": "markdown",
      "metadata": {},
      "source": [
        "¿Por qué se hizo esta función?<br>\n",
        "\n",
        "En muchos registros del dataset de clientes, la columna `churn` (abandono) aparece vacía.<br>\n",
        "Para poder analizar y modelar estos datos correctamente, es importante completar esos valores.<br>\n",
        "\n",
        "Esta función utiliza una **estrategia heurística**, es decir, una lógica basada en el sentido común<br>\n",
        "y patrones observados en los datos reales:<br>\n",
        "\n",
        "- Clientes nuevos y sin contrato a largo plazo tienden a irse más fácilmente.\n",
        "- El pago con cheque electrónico suele asociarse con menor fidelización.\n",
        "- El alto costo mensual sin beneficios adicionales puede aumentar la probabilidad de cancelación.\n",
        "\n",
        "La función evalúa esas condiciones y asigna `\"Yes\"` (abandonó) o `\"No\"` (sigue) a los clientes<br>\n",
        "que no tenían etiqueta, sin necesidad de usar algoritmos complejos de aprendizaje automático.<br>\n",
        "\n",
        "Este enfoque es útil como solución inicial o cuando no se dispone de un modelo entrenado."
      ]
    },
    {
      "cell_type": "code",
      "execution_count": 35,
      "metadata": {},
      "outputs": [],
      "source": [
        "def Asignacion_de_Churn(datos):\n",
        "    datos = datos.copy()  # Se hace una copia para no modificar el DataFrame original\n",
        "\n",
        "    # Calculamos el tercer cuartil de gastos mensuales\n",
        "    # Esto nos sirve como referencia para saber qué clientes pagan mucho\n",
        "    umbral_gasto_alto = datos['charges.monthly'].quantile(0.75)\n",
        "\n",
        "    # Definimos una función interna que evalúa si un cliente esta en \"riesgoso\"\n",
        "    # Suma condiciones y marca como \"Sí\" (abandona) si se cumplen 3 o más\n",
        "    def evaluar_riesgo(fila):\n",
        "        condiciones_riesgo = 0\n",
        "\n",
        "        # Cliente con contrato mes a mes → fácil cancelación\n",
        "        if fila['contract'] == 'Month-to-month':\n",
        "            condiciones_riesgo += 1\n",
        "        # Pago manual con cheque electrónico (Electronic check) → baja fidelización\n",
        "        if fila['paymentmethod'] == 'Electronic check':\n",
        "            condiciones_riesgo += 1\n",
        "        # Antigüedad corta (≤ 6 meses) → cliente aún no afianzado\n",
        "        if fila['tenure'] <= 6:\n",
        "            condiciones_riesgo += 1\n",
        "        # Fibra óptica sin protección de seguridad ('onlinesecurity') → alto coste sin valor añadido\n",
        "        if fila['internetservice'] == 'Fiber optic' and fila['onlinesecurity'] == 'No':\n",
        "            condiciones_riesgo += 1\n",
        "        # Gasto mensual muy alto, por encima del promedio 'Q3'\n",
        "        if fila['charges.monthly'] > umbral_gasto_alto:\n",
        "            condiciones_riesgo += 1\n",
        "\n",
        "        # No tiene ningún servicio adicional (de valor agregado)\n",
        "        extras = ['onlinesecurity', 'onlinebackup', 'deviceprotection', 'techsupport']\n",
        "        if all(fila[e] in ['No', 'No internet service'] for e in extras):\n",
        "            condiciones_riesgo += 1\n",
        "\n",
        "        # Hace streaming (TV o Películas) con DSL → mala experiencia\n",
        "        if fila['internetservice'] == 'DSL' and (\n",
        "            fila['streamingtv'] == 'Yes' or fila['streamingmovies'] == 'Yes'):\n",
        "            condiciones_riesgo += 1\n",
        "        # Cliente mayor SIN soporte técnico → posible frustración\n",
        "        if fila['seniorcitizen'] == 1 and fila['techsupport'] == 'No':\n",
        "            condiciones_riesgo += 1\n",
        "    \n",
        "        # Si cumple 4 o más condiciones de riesgo → se marca como que abandonó (churn = 'Yes')\n",
        "        return 'Yes' if condiciones_riesgo >= 4 else 'No'\n",
        "\n",
        "    # Aplicar la lógica solo a los registros que tienen el campo vacío\n",
        "    ChurnVacio = datos['churn'] == \"\"\n",
        "    datos.loc[ChurnVacio, 'churn'] = datos[ChurnVacio].apply(evaluar_riesgo, axis=1)\n",
        "\n",
        "    return datos"
      ]
    },
    {
      "cell_type": "code",
      "execution_count": 36,
      "metadata": {},
      "outputs": [
        {
          "name": "stdout",
          "output_type": "stream",
          "text": [
            "churn\n",
            "No     5174\n",
            "Yes    1869\n",
            "        224\n",
            "Name: count, dtype: int64\n"
          ]
        }
      ],
      "source": [
        "print(Datos_Norm['churn'].value_counts(dropna=False))  # cómo está antes"
      ]
    },
    {
      "cell_type": "markdown",
      "metadata": {},
      "source": [
        "##### DATAFRAME con Churn completo | Almacenamiento de nuevo DF"
      ]
    },
    {
      "cell_type": "code",
      "execution_count": 37,
      "metadata": {},
      "outputs": [],
      "source": [
        "Churn_completo = Asignacion_de_Churn(Datos_Norm)"
      ]
    },
    {
      "cell_type": "code",
      "execution_count": 38,
      "metadata": {},
      "outputs": [
        {
          "data": {
            "text/html": [
              "<div>\n",
              "<style scoped>\n",
              "    .dataframe tbody tr th:only-of-type {\n",
              "        vertical-align: middle;\n",
              "    }\n",
              "\n",
              "    .dataframe tbody tr th {\n",
              "        vertical-align: top;\n",
              "    }\n",
              "\n",
              "    .dataframe thead th {\n",
              "        text-align: right;\n",
              "    }\n",
              "</style>\n",
              "<table border=\"1\" class=\"dataframe\">\n",
              "  <thead>\n",
              "    <tr style=\"text-align: right;\">\n",
              "      <th></th>\n",
              "      <th>customerid</th>\n",
              "      <th>churn</th>\n",
              "      <th>gender</th>\n",
              "      <th>seniorcitizen</th>\n",
              "      <th>partner</th>\n",
              "      <th>dependents</th>\n",
              "      <th>tenure</th>\n",
              "      <th>phoneservice</th>\n",
              "      <th>multiplelines</th>\n",
              "      <th>internetservice</th>\n",
              "      <th>...</th>\n",
              "      <th>onlinebackup</th>\n",
              "      <th>deviceprotection</th>\n",
              "      <th>techsupport</th>\n",
              "      <th>streamingtv</th>\n",
              "      <th>streamingmovies</th>\n",
              "      <th>contract</th>\n",
              "      <th>paperlessbilling</th>\n",
              "      <th>paymentmethod</th>\n",
              "      <th>charges.monthly</th>\n",
              "      <th>charges.total</th>\n",
              "    </tr>\n",
              "  </thead>\n",
              "  <tbody>\n",
              "    <tr>\n",
              "      <th>0</th>\n",
              "      <td>0002-ORFBO</td>\n",
              "      <td>No</td>\n",
              "      <td>Female</td>\n",
              "      <td>False</td>\n",
              "      <td>Yes</td>\n",
              "      <td>Yes</td>\n",
              "      <td>9</td>\n",
              "      <td>Yes</td>\n",
              "      <td>No</td>\n",
              "      <td>DSL</td>\n",
              "      <td>...</td>\n",
              "      <td>Yes</td>\n",
              "      <td>No</td>\n",
              "      <td>Yes</td>\n",
              "      <td>Yes</td>\n",
              "      <td>No</td>\n",
              "      <td>One year</td>\n",
              "      <td>Yes</td>\n",
              "      <td>Mailed check</td>\n",
              "      <td>65.6</td>\n",
              "      <td>593.30</td>\n",
              "    </tr>\n",
              "    <tr>\n",
              "      <th>1</th>\n",
              "      <td>0003-MKNFE</td>\n",
              "      <td>No</td>\n",
              "      <td>Male</td>\n",
              "      <td>False</td>\n",
              "      <td>No</td>\n",
              "      <td>No</td>\n",
              "      <td>9</td>\n",
              "      <td>Yes</td>\n",
              "      <td>Yes</td>\n",
              "      <td>DSL</td>\n",
              "      <td>...</td>\n",
              "      <td>No</td>\n",
              "      <td>No</td>\n",
              "      <td>No</td>\n",
              "      <td>No</td>\n",
              "      <td>Yes</td>\n",
              "      <td>Month-to-month</td>\n",
              "      <td>No</td>\n",
              "      <td>Mailed check</td>\n",
              "      <td>59.9</td>\n",
              "      <td>542.40</td>\n",
              "    </tr>\n",
              "    <tr>\n",
              "      <th>2</th>\n",
              "      <td>0004-TLHLJ</td>\n",
              "      <td>Yes</td>\n",
              "      <td>Male</td>\n",
              "      <td>False</td>\n",
              "      <td>No</td>\n",
              "      <td>No</td>\n",
              "      <td>4</td>\n",
              "      <td>Yes</td>\n",
              "      <td>No</td>\n",
              "      <td>Fiber optic</td>\n",
              "      <td>...</td>\n",
              "      <td>No</td>\n",
              "      <td>Yes</td>\n",
              "      <td>No</td>\n",
              "      <td>No</td>\n",
              "      <td>No</td>\n",
              "      <td>Month-to-month</td>\n",
              "      <td>Yes</td>\n",
              "      <td>Electronic check</td>\n",
              "      <td>73.9</td>\n",
              "      <td>280.85</td>\n",
              "    </tr>\n",
              "    <tr>\n",
              "      <th>3</th>\n",
              "      <td>0011-IGKFF</td>\n",
              "      <td>Yes</td>\n",
              "      <td>Male</td>\n",
              "      <td>True</td>\n",
              "      <td>Yes</td>\n",
              "      <td>No</td>\n",
              "      <td>13</td>\n",
              "      <td>Yes</td>\n",
              "      <td>No</td>\n",
              "      <td>Fiber optic</td>\n",
              "      <td>...</td>\n",
              "      <td>Yes</td>\n",
              "      <td>Yes</td>\n",
              "      <td>No</td>\n",
              "      <td>Yes</td>\n",
              "      <td>Yes</td>\n",
              "      <td>Month-to-month</td>\n",
              "      <td>Yes</td>\n",
              "      <td>Electronic check</td>\n",
              "      <td>98.0</td>\n",
              "      <td>1237.85</td>\n",
              "    </tr>\n",
              "    <tr>\n",
              "      <th>4</th>\n",
              "      <td>0013-EXCHZ</td>\n",
              "      <td>Yes</td>\n",
              "      <td>Female</td>\n",
              "      <td>True</td>\n",
              "      <td>Yes</td>\n",
              "      <td>No</td>\n",
              "      <td>3</td>\n",
              "      <td>Yes</td>\n",
              "      <td>No</td>\n",
              "      <td>Fiber optic</td>\n",
              "      <td>...</td>\n",
              "      <td>No</td>\n",
              "      <td>No</td>\n",
              "      <td>Yes</td>\n",
              "      <td>Yes</td>\n",
              "      <td>No</td>\n",
              "      <td>Month-to-month</td>\n",
              "      <td>Yes</td>\n",
              "      <td>Mailed check</td>\n",
              "      <td>83.9</td>\n",
              "      <td>267.40</td>\n",
              "    </tr>\n",
              "  </tbody>\n",
              "</table>\n",
              "<p>5 rows × 21 columns</p>\n",
              "</div>"
            ],
            "text/plain": [
              "   customerid churn  gender  seniorcitizen partner dependents  tenure  \\\n",
              "0  0002-ORFBO    No  Female          False     Yes        Yes       9   \n",
              "1  0003-MKNFE    No    Male          False      No         No       9   \n",
              "2  0004-TLHLJ   Yes    Male          False      No         No       4   \n",
              "3  0011-IGKFF   Yes    Male           True     Yes         No      13   \n",
              "4  0013-EXCHZ   Yes  Female           True     Yes         No       3   \n",
              "\n",
              "  phoneservice multiplelines internetservice  ... onlinebackup  \\\n",
              "0          Yes            No             DSL  ...          Yes   \n",
              "1          Yes           Yes             DSL  ...           No   \n",
              "2          Yes            No     Fiber optic  ...           No   \n",
              "3          Yes            No     Fiber optic  ...          Yes   \n",
              "4          Yes            No     Fiber optic  ...           No   \n",
              "\n",
              "  deviceprotection techsupport streamingtv streamingmovies        contract  \\\n",
              "0               No         Yes         Yes              No        One year   \n",
              "1               No          No          No             Yes  Month-to-month   \n",
              "2              Yes          No          No              No  Month-to-month   \n",
              "3              Yes          No         Yes             Yes  Month-to-month   \n",
              "4               No         Yes         Yes              No  Month-to-month   \n",
              "\n",
              "  paperlessbilling     paymentmethod charges.monthly  charges.total  \n",
              "0              Yes      Mailed check            65.6         593.30  \n",
              "1               No      Mailed check            59.9         542.40  \n",
              "2              Yes  Electronic check            73.9         280.85  \n",
              "3              Yes  Electronic check            98.0        1237.85  \n",
              "4              Yes      Mailed check            83.9         267.40  \n",
              "\n",
              "[5 rows x 21 columns]"
            ]
          },
          "execution_count": 38,
          "metadata": {},
          "output_type": "execute_result"
        }
      ],
      "source": [
        "Churn_completo.head()"
      ]
    },
    {
      "cell_type": "markdown",
      "metadata": {},
      "source": [
        "Verificacion y Almacenamiento de df"
      ]
    },
    {
      "cell_type": "code",
      "execution_count": 39,
      "metadata": {},
      "outputs": [
        {
          "name": "stdout",
          "output_type": "stream",
          "text": [
            "churn\n",
            "No     5339\n",
            "Yes    1928\n",
            "          0\n",
            "Name: count, dtype: int64\n"
          ]
        }
      ],
      "source": [
        "print(Churn_completo['churn'].value_counts(dropna=False))  # cómo está antes"
      ]
    },
    {
      "cell_type": "code",
      "execution_count": 40,
      "metadata": {},
      "outputs": [
        {
          "data": {
            "text/plain": [
              "customerid          string[python]\n",
              "churn                     category\n",
              "gender                    category\n",
              "seniorcitizen                 bool\n",
              "partner                   category\n",
              "dependents                category\n",
              "tenure                       int64\n",
              "phoneservice              category\n",
              "multiplelines             category\n",
              "internetservice           category\n",
              "onlinesecurity            category\n",
              "onlinebackup              category\n",
              "deviceprotection          category\n",
              "techsupport               category\n",
              "streamingtv               category\n",
              "streamingmovies           category\n",
              "contract                  category\n",
              "paperlessbilling          category\n",
              "paymentmethod             category\n",
              "charges.monthly            float64\n",
              "charges.total              float64\n",
              "dtype: object"
            ]
          },
          "execution_count": 40,
          "metadata": {},
          "output_type": "execute_result"
        }
      ],
      "source": [
        "Churn_completo.dtypes"
      ]
    },
    {
      "cell_type": "code",
      "execution_count": 41,
      "metadata": {},
      "outputs": [],
      "source": [
        "pd.DataFrame.to_json(Churn_completo, path_or_buf='TelecomX_Data_Churn.json', orient='records', lines=True)"
      ]
    },
    {
      "cell_type": "markdown",
      "metadata": {},
      "source": [
        "### Columna de cuentas diarias\n",
        "\n",
        "Ahora que los datos están limpios, es momento de crear la columna \"Cuentas_Diarias\". Utiliza la facturación mensual para calcular el valor diario, proporcionando una visión más detallada del comportamiento de los clientes a lo largo del tiempo."
      ]
    },
    {
      "cell_type": "markdown",
      "metadata": {},
      "source": [
        "#### Lectura rapido del nuevo Dataframe"
      ]
    },
    {
      "cell_type": "code",
      "execution_count": null,
      "metadata": {},
      "outputs": [],
      "source": [
        "import pandas as pd\n",
        "# Leer el nuevo df en formato json\n",
        "url2 = 'TelecomX_Data_Churn.json'\n"
      ]
    },
    {
      "cell_type": "code",
      "execution_count": 44,
      "metadata": {},
      "outputs": [
        {
          "name": "stdout",
          "output_type": "stream",
          "text": [
            "DataFrame cargado exitosamente. Filas: 7267, Columnas: 21\n"
          ]
        }
      ],
      "source": [
        "try:\n",
        "    # Convertir los datos a un DataFrame de Pandas\n",
        "    df_Datos = pd.read_json(url2, orient='records', lines=True)\n",
        "    print(f\"DataFrame cargado exitosamente. Filas: {len(df_Datos)}, Columnas: {len(df_Datos.columns)}\")\n",
        "except Exception as e:\n",
        "    print(f\"Error al cargar el JSON: {e}\")\n",
        "    print(\"Verifica la URL y tu conexión a internet.\")"
      ]
    },
    {
      "cell_type": "code",
      "execution_count": 45,
      "metadata": {},
      "outputs": [
        {
          "data": {
            "text/plain": [
              "customerid           object\n",
              "churn                object\n",
              "gender               object\n",
              "seniorcitizen          bool\n",
              "partner              object\n",
              "dependents           object\n",
              "tenure                int64\n",
              "phoneservice         object\n",
              "multiplelines        object\n",
              "internetservice      object\n",
              "onlinesecurity       object\n",
              "onlinebackup         object\n",
              "deviceprotection     object\n",
              "techsupport          object\n",
              "streamingtv          object\n",
              "streamingmovies      object\n",
              "contract             object\n",
              "paperlessbilling     object\n",
              "paymentmethod        object\n",
              "charges.monthly     float64\n",
              "charges.total       float64\n",
              "dtype: object"
            ]
          },
          "execution_count": 45,
          "metadata": {},
          "output_type": "execute_result"
        }
      ],
      "source": [
        "df_Datos.dtypes"
      ]
    },
    {
      "cell_type": "markdown",
      "metadata": {},
      "source": [
        "#### Optimizacion tipo de datos"
      ]
    },
    {
      "cell_type": "code",
      "execution_count": 48,
      "metadata": {},
      "outputs": [],
      "source": [
        "# cambio de tipo de dato para mejorar el uso de memoria\n",
        "\n",
        "# customerID cambio de object a string \n",
        "df_Datos['customerid'] = df_Datos['customerid'].astype('string')\n",
        "\n",
        "# Columnas categóricas\n",
        "columnas_categoricas = [\n",
        "    'gender', 'partner', 'dependents', 'churn', 'phoneservice',\n",
        "    'multiplelines', 'internetservice', 'onlinesecurity', 'onlinebackup',\n",
        "    'deviceprotection', 'techsupport', 'streamingtv', 'streamingmovies',\n",
        "    'contract', 'paperlessbilling', 'paymentmethod'\n",
        "]\n",
        "\n",
        "for col in columnas_categoricas:\n",
        "    df_Datos[col] = df_Datos[col].astype('category')"
      ]
    },
    {
      "cell_type": "code",
      "execution_count": 49,
      "metadata": {},
      "outputs": [
        {
          "data": {
            "text/plain": [
              "customerid          string[python]\n",
              "churn                     category\n",
              "gender                    category\n",
              "seniorcitizen                 bool\n",
              "partner                   category\n",
              "dependents                category\n",
              "tenure                       int64\n",
              "phoneservice              category\n",
              "multiplelines             category\n",
              "internetservice           category\n",
              "onlinesecurity            category\n",
              "onlinebackup              category\n",
              "deviceprotection          category\n",
              "techsupport               category\n",
              "streamingtv               category\n",
              "streamingmovies           category\n",
              "contract                  category\n",
              "paperlessbilling          category\n",
              "paymentmethod             category\n",
              "charges.monthly            float64\n",
              "charges.total              float64\n",
              "dtype: object"
            ]
          },
          "execution_count": 49,
          "metadata": {},
          "output_type": "execute_result"
        }
      ],
      "source": [
        "df_Datos.dtypes"
      ]
    },
    {
      "cell_type": "markdown",
      "metadata": {},
      "source": [
        "#### Adicion de columna nueva ['charges.daily']"
      ]
    },
    {
      "cell_type": "code",
      "execution_count": null,
      "metadata": {},
      "outputs": [],
      "source": [
        "# Forma de Generar nueva columan EJ: df_Datos['Charges.Daily'] = df_Datos['Charges.Monthly'] / 30.436875\n",
        "\n",
        "# Indicamos donde insertar: después de la columna'paymentmethod' y antes de la columna 'charges.monthly'\n",
        "pos = df_Datos.columns.get_loc('paymentmethod') + 1   # +1 → inmediatamente después\n",
        "\n",
        "# Crear e insertar la columna 'charges.daily'\n",
        "df_Datos.insert(\n",
        "    pos,                              # posición\n",
        "    'charges.daily',                  # nombre de la nueva columna\n",
        "    (df_Datos['charges.monthly'] / 30.417).round(2)  # valor (float, 2 decimales)\n",
        ")"
      ]
    },
    {
      "cell_type": "markdown",
      "metadata": {},
      "source": [
        "Porque dividimos a \"30,417\",porque es la media de dias por mes<br>\n",
        "Si dividimos los 365 dias del año a 12, tenemos 30,417 dias de media"
      ]
    },
    {
      "cell_type": "markdown",
      "metadata": {},
      "source": [
        "Formas de visualizar los nuevos datos"
      ]
    },
    {
      "cell_type": "code",
      "execution_count": 83,
      "metadata": {},
      "outputs": [
        {
          "data": {
            "text/html": [
              "<div>\n",
              "<style scoped>\n",
              "    .dataframe tbody tr th:only-of-type {\n",
              "        vertical-align: middle;\n",
              "    }\n",
              "\n",
              "    .dataframe tbody tr th {\n",
              "        vertical-align: top;\n",
              "    }\n",
              "\n",
              "    .dataframe thead th {\n",
              "        text-align: right;\n",
              "    }\n",
              "</style>\n",
              "<table border=\"1\" class=\"dataframe\">\n",
              "  <thead>\n",
              "    <tr style=\"text-align: right;\">\n",
              "      <th></th>\n",
              "      <th>customerid</th>\n",
              "      <th>churn</th>\n",
              "      <th>tenure</th>\n",
              "      <th>contract</th>\n",
              "      <th>charges.daily</th>\n",
              "      <th>charges.monthly</th>\n",
              "      <th>charges.total</th>\n",
              "    </tr>\n",
              "  </thead>\n",
              "  <tbody>\n",
              "    <tr>\n",
              "      <th>5793</th>\n",
              "      <td>7923-IYJWY</td>\n",
              "      <td>No</td>\n",
              "      <td>67</td>\n",
              "      <td>Two year</td>\n",
              "      <td>3.82</td>\n",
              "      <td>116.10</td>\n",
              "      <td>7839.85</td>\n",
              "    </tr>\n",
              "    <tr>\n",
              "      <th>1371</th>\n",
              "      <td>1981-INRFU</td>\n",
              "      <td>Yes</td>\n",
              "      <td>2</td>\n",
              "      <td>Month-to-month</td>\n",
              "      <td>2.62</td>\n",
              "      <td>79.75</td>\n",
              "      <td>164.50</td>\n",
              "    </tr>\n",
              "    <tr>\n",
              "      <th>3419</th>\n",
              "      <td>4735-ASGMA</td>\n",
              "      <td>Yes</td>\n",
              "      <td>26</td>\n",
              "      <td>Month-to-month</td>\n",
              "      <td>3.23</td>\n",
              "      <td>98.35</td>\n",
              "      <td>2515.30</td>\n",
              "    </tr>\n",
              "    <tr>\n",
              "      <th>5877</th>\n",
              "      <td>8035-PWSEV</td>\n",
              "      <td>No</td>\n",
              "      <td>6</td>\n",
              "      <td>Month-to-month</td>\n",
              "      <td>2.93</td>\n",
              "      <td>89.25</td>\n",
              "      <td>487.05</td>\n",
              "    </tr>\n",
              "    <tr>\n",
              "      <th>1815</th>\n",
              "      <td>2586-CWXVV</td>\n",
              "      <td>No</td>\n",
              "      <td>54</td>\n",
              "      <td>Month-to-month</td>\n",
              "      <td>1.00</td>\n",
              "      <td>30.40</td>\n",
              "      <td>1621.35</td>\n",
              "    </tr>\n",
              "  </tbody>\n",
              "</table>\n",
              "</div>"
            ],
            "text/plain": [
              "      customerid churn  tenure        contract  charges.daily  \\\n",
              "5793  7923-IYJWY    No      67        Two year           3.82   \n",
              "1371  1981-INRFU   Yes       2  Month-to-month           2.62   \n",
              "3419  4735-ASGMA   Yes      26  Month-to-month           3.23   \n",
              "5877  8035-PWSEV    No       6  Month-to-month           2.93   \n",
              "1815  2586-CWXVV    No      54  Month-to-month           1.00   \n",
              "\n",
              "      charges.monthly  charges.total  \n",
              "5793           116.10        7839.85  \n",
              "1371            79.75         164.50  \n",
              "3419            98.35        2515.30  \n",
              "5877            89.25         487.05  \n",
              "1815            30.40        1621.35  "
            ]
          },
          "execution_count": 83,
          "metadata": {},
          "output_type": "execute_result"
        }
      ],
      "source": [
        "df_Datos[['customerid','churn','tenure','contract','charges.daily','charges.monthly','charges.total']].sample(5)"
      ]
    },
    {
      "cell_type": "code",
      "execution_count": 82,
      "metadata": {},
      "outputs": [
        {
          "name": "stdout",
          "output_type": "stream",
          "text": [
            "      customerid churn  tenure        contract  charges.daily  \\\n",
            "5561  7606-GWMKE    No      21  Month-to-month           0.81   \n",
            "1874  2664-XJZNO    No      72        Two year           3.45   \n",
            "1323  1910-FMXJM    No      36  Month-to-month           2.64   \n",
            "753   1078-TDCRN    No       3  Month-to-month           1.01   \n",
            "811   1150-FTQGN    No      60        One year           3.10   \n",
            "\n",
            "      charges.monthly  charges.total  \n",
            "5561            24.70         467.15  \n",
            "1874           104.90        7559.55  \n",
            "1323            80.40        2937.65  \n",
            "753             30.75          82.85  \n",
            "811             94.15        5811.80  \n"
          ]
        }
      ],
      "source": [
        "print(df_Datos[['customerid','churn','tenure','contract','charges.daily','charges.monthly','charges.total']].sample(5))"
      ]
    },
    {
      "cell_type": "markdown",
      "metadata": {},
      "source": [
        "### Estandarización y transformación de datos (*opcional*)\n",
        "\n",
        "La estandarización y transformación de datos es una etapa opcional, pero altamente recomendada, ya que busca hacer que la información sea más consistente, comprensible y adecuada para el análisis. Durante esta fase, por ejemplo, puedes convertir valores textuales como \"Sí\" y \"No\" en valores binarios (1 y 0), lo que facilita el procesamiento matemático y la aplicación de modelos analíticos.<br>\n",
        "\n",
        "Además, traducir o renombrar columnas y datos hace que la información sea más accesible y fácil de entender, especialmente cuando se trabaja con fuentes externas o términos técnicos. Aunque no es un paso obligatorio, puede mejorar significativamente la claridad y comunicación de los resultados, facilitando la interpretación y evitando confusiones, especialmente al compartir información con stakeholders no técnicos."
      ]
    },
    {
      "cell_type": "markdown",
      "metadata": {},
      "source": [
        "#### Traduccion de Columnas para mayor legibilidad"
      ]
    },
    {
      "cell_type": "code",
      "execution_count": 85,
      "metadata": {},
      "outputs": [],
      "source": [
        "# Diccionario de mapeo: inglés → español\n",
        "\n",
        "cols_es = {\n",
        "    'customerid'       : 'id_cliente',\n",
        "    'churn'            : 'abandono_cliente',\n",
        "    'gender'           : 'genero',\n",
        "    'seniorcitizen'    : 'jubilado',          # 1 si ≥65 años\n",
        "    'partner'          : 'pareja',\n",
        "    'dependents'       : 'dependientes',\n",
        "    'tenure'           : 'meses_antiguedad',\n",
        "    'phoneservice'     : 'servicio_telefono',\n",
        "    'multiplelines'    : 'extra.multiples_lineas',\n",
        "    'internetservice'  : 'servicio_internet',\n",
        "    'onlinesecurity'   : 'extra.seguridad_online',\n",
        "    'onlinebackup'     : 'extra.respaldo_online',\n",
        "    'deviceprotection' : 'extra.proteccion_dispositivo',\n",
        "    'techsupport'      : 'extra.soporte_tecnico',\n",
        "    'streamingtv'      : 'tv_streaming',\n",
        "    'streamingmovies'  : 'peliculas_streaming',\n",
        "    'contract'         : 'contrato_modalidad',\n",
        "    'paperlessbilling' : 'factura_digital',\n",
        "    'PaymentMethod'    : 'metodo_pago',   \n",
        "    'charges.daily'    : 'cargo.diario',\n",
        "    'charges.monthly'  : 'cargo.mensual',\n",
        "    'charges.total'    : 'cargo.total'\n",
        "}\n",
        "\n",
        "df_Datos.rename(columns=cols_es, inplace=True)"
      ]
    },
    {
      "cell_type": "code",
      "execution_count": 86,
      "metadata": {},
      "outputs": [
        {
          "data": {
            "text/html": [
              "<div>\n",
              "<style scoped>\n",
              "    .dataframe tbody tr th:only-of-type {\n",
              "        vertical-align: middle;\n",
              "    }\n",
              "\n",
              "    .dataframe tbody tr th {\n",
              "        vertical-align: top;\n",
              "    }\n",
              "\n",
              "    .dataframe thead th {\n",
              "        text-align: right;\n",
              "    }\n",
              "</style>\n",
              "<table border=\"1\" class=\"dataframe\">\n",
              "  <thead>\n",
              "    <tr style=\"text-align: right;\">\n",
              "      <th></th>\n",
              "      <th>id_cliente</th>\n",
              "      <th>abandono_cliente</th>\n",
              "      <th>genero</th>\n",
              "      <th>jubilado</th>\n",
              "      <th>pareja</th>\n",
              "      <th>dependientes</th>\n",
              "      <th>meses_antiguedad</th>\n",
              "      <th>servicio_telefono</th>\n",
              "      <th>extra.multiples_lineas</th>\n",
              "      <th>servicio_internet</th>\n",
              "      <th>...</th>\n",
              "      <th>extra.proteccion_dispositivo</th>\n",
              "      <th>extra.soporte_tecnico</th>\n",
              "      <th>tv_streaming</th>\n",
              "      <th>peliculas_streaming</th>\n",
              "      <th>contrato_modalidad</th>\n",
              "      <th>factura_digital</th>\n",
              "      <th>paymentmethod</th>\n",
              "      <th>cargo.diario</th>\n",
              "      <th>cargo.mensual</th>\n",
              "      <th>cargo.total</th>\n",
              "    </tr>\n",
              "  </thead>\n",
              "  <tbody>\n",
              "    <tr>\n",
              "      <th>1690</th>\n",
              "      <td>2393-DIVAI</td>\n",
              "      <td>No</td>\n",
              "      <td>Female</td>\n",
              "      <td>False</td>\n",
              "      <td>No</td>\n",
              "      <td>No</td>\n",
              "      <td>3</td>\n",
              "      <td>Yes</td>\n",
              "      <td>No</td>\n",
              "      <td>No</td>\n",
              "      <td>...</td>\n",
              "      <td>No internet service</td>\n",
              "      <td>No internet service</td>\n",
              "      <td>No internet service</td>\n",
              "      <td>No internet service</td>\n",
              "      <td>Month-to-month</td>\n",
              "      <td>Yes</td>\n",
              "      <td>Mailed check</td>\n",
              "      <td>0.66</td>\n",
              "      <td>20.0</td>\n",
              "      <td>61.70</td>\n",
              "    </tr>\n",
              "    <tr>\n",
              "      <th>6535</th>\n",
              "      <td>8982-NHAVY</td>\n",
              "      <td>No</td>\n",
              "      <td>Male</td>\n",
              "      <td>False</td>\n",
              "      <td>No</td>\n",
              "      <td>No</td>\n",
              "      <td>27</td>\n",
              "      <td>Yes</td>\n",
              "      <td>Yes</td>\n",
              "      <td>Fiber optic</td>\n",
              "      <td>...</td>\n",
              "      <td>Yes</td>\n",
              "      <td>No</td>\n",
              "      <td>Yes</td>\n",
              "      <td>Yes</td>\n",
              "      <td>One year</td>\n",
              "      <td>Yes</td>\n",
              "      <td>Bank transfer (automatic)</td>\n",
              "      <td>3.30</td>\n",
              "      <td>100.5</td>\n",
              "      <td>2673.45</td>\n",
              "    </tr>\n",
              "    <tr>\n",
              "      <th>998</th>\n",
              "      <td>1400-MMYXY</td>\n",
              "      <td>Yes</td>\n",
              "      <td>Male</td>\n",
              "      <td>True</td>\n",
              "      <td>Yes</td>\n",
              "      <td>No</td>\n",
              "      <td>3</td>\n",
              "      <td>Yes</td>\n",
              "      <td>Yes</td>\n",
              "      <td>Fiber optic</td>\n",
              "      <td>...</td>\n",
              "      <td>Yes</td>\n",
              "      <td>No</td>\n",
              "      <td>Yes</td>\n",
              "      <td>Yes</td>\n",
              "      <td>Month-to-month</td>\n",
              "      <td>Yes</td>\n",
              "      <td>Electronic check</td>\n",
              "      <td>3.48</td>\n",
              "      <td>105.9</td>\n",
              "      <td>334.65</td>\n",
              "    </tr>\n",
              "  </tbody>\n",
              "</table>\n",
              "<p>3 rows × 22 columns</p>\n",
              "</div>"
            ],
            "text/plain": [
              "      id_cliente abandono_cliente  genero  jubilado pareja dependientes  \\\n",
              "1690  2393-DIVAI               No  Female     False     No           No   \n",
              "6535  8982-NHAVY               No    Male     False     No           No   \n",
              "998   1400-MMYXY              Yes    Male      True    Yes           No   \n",
              "\n",
              "      meses_antiguedad servicio_telefono extra.multiples_lineas  \\\n",
              "1690                 3               Yes                     No   \n",
              "6535                27               Yes                    Yes   \n",
              "998                  3               Yes                    Yes   \n",
              "\n",
              "     servicio_internet  ... extra.proteccion_dispositivo  \\\n",
              "1690                No  ...          No internet service   \n",
              "6535       Fiber optic  ...                          Yes   \n",
              "998        Fiber optic  ...                          Yes   \n",
              "\n",
              "     extra.soporte_tecnico         tv_streaming  peliculas_streaming  \\\n",
              "1690   No internet service  No internet service  No internet service   \n",
              "6535                    No                  Yes                  Yes   \n",
              "998                     No                  Yes                  Yes   \n",
              "\n",
              "     contrato_modalidad factura_digital              paymentmethod  \\\n",
              "1690     Month-to-month             Yes               Mailed check   \n",
              "6535           One year             Yes  Bank transfer (automatic)   \n",
              "998      Month-to-month             Yes           Electronic check   \n",
              "\n",
              "     cargo.diario cargo.mensual  cargo.total  \n",
              "1690         0.66          20.0        61.70  \n",
              "6535         3.30         100.5      2673.45  \n",
              "998          3.48         105.9       334.65  \n",
              "\n",
              "[3 rows x 22 columns]"
            ]
          },
          "execution_count": 86,
          "metadata": {},
          "output_type": "execute_result"
        }
      ],
      "source": [
        "df_Datos.sample(3)"
      ]
    },
    {
      "cell_type": "markdown",
      "metadata": {},
      "source": [
        "#### Traducción de datos"
      ]
    },
    {
      "cell_type": "markdown",
      "metadata": {},
      "source": [
        "\n",
        "\"\"\"\n",
        "\n",
        "\"\"\"# 1️⃣  Sí / No  ➜  Sí / No   (opcional mantener tilde)\n",
        "map_bin = {'Yes': 'Sí', 'No': 'No'}\n",
        "\n",
        "# 2️⃣  Valores especiales\n",
        "map_serv = {\n",
        "    'No internet service': 'Sin servicio de internet',\n",
        "    'No phone service'   : 'Sin servicio telefónico'\n",
        "}\n",
        "\n",
        "# 3️⃣  Género\n",
        "map_genero = {'Male': 'Masculino', 'Female': 'Femenino'}\n",
        "\n",
        "# 4️⃣  Aplicar en bloque\n",
        "df_Datos.replace({**map_bin, **map_serv, **map_genero}, inplace=True)\n",
        "\"\"\""
      ]
    },
    {
      "cell_type": "markdown",
      "metadata": {
        "id": "6XnTC2NTmMRL"
      },
      "source": [
        "## 📊 Carga y análisis"
      ]
    },
    {
      "cell_type": "markdown",
      "metadata": {
        "id": "v-WzfSvTmaw9"
      },
      "source": [
        "## 📄Informe final"
      ]
    },
    {
      "cell_type": "code",
      "execution_count": null,
      "metadata": {
        "id": "XMTac0YJmeK9"
      },
      "outputs": [],
      "source": []
    }
  ],
  "metadata": {
    "colab": {
      "provenance": []
    },
    "kernelspec": {
      "display_name": "Python 3",
      "name": "python3"
    },
    "language_info": {
      "codemirror_mode": {
        "name": "ipython",
        "version": 3
      },
      "file_extension": ".py",
      "mimetype": "text/x-python",
      "name": "python",
      "nbconvert_exporter": "python",
      "pygments_lexer": "ipython3",
      "version": "3.12.6"
    }
  },
  "nbformat": 4,
  "nbformat_minor": 0
}
